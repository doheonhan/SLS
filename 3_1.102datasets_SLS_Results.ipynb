{
 "cells": [
  {
   "cell_type": "markdown",
   "id": "f6a0105c",
   "metadata": {},
   "source": [
    "## 2. 102 Data"
   ]
  },
  {
   "cell_type": "code",
   "execution_count": null,
   "id": "f3cac6ea",
   "metadata": {},
   "outputs": [],
   "source": [
    "import bayesiantests as bt\n",
    "import matplotlib.pyplot as plt\n",
    "\n",
    "def stacked_bar(results, category_names):\n",
    "    \"\"\"\n",
    "    Parameters\n",
    "    ----------\n",
    "    results : dict\n",
    "        A mapping from question labels to a list of answers per category.\n",
    "        It is assumed all lists contain the same number of entries and that\n",
    "        it matches the length of *category_names*.\n",
    "    category_names : list of str\n",
    "        The category labels.\n",
    "    \"\"\"\n",
    "    labels = list(results.keys())\n",
    "    data = np.array(list(results.values()))\n",
    "    data_cum = data.cumsum(axis=1)\n",
    "    category_colors = plt.colormaps['RdYlGn'](\n",
    "        np.linspace(0.15, 0.85, data.shape[1]))\n",
    "\n",
    "    fig, ax = plt.subplots(figsize=(9.2, 5))\n",
    "    ax.invert_yaxis()\n",
    "    ax.xaxis.set_visible(False)\n",
    "    ax.set_xlim(0, np.sum(data, axis=1).max())\n",
    "\n",
    "    for i, (colname, color) in enumerate(zip(category_names, category_colors)):\n",
    "        widths = data[:, i]\n",
    "        starts = data_cum[:, i] - widths\n",
    "        rects = ax.barh(labels, widths, left=starts, height=0.5,\n",
    "                        label=colname, color=color)\n",
    "\n",
    "        r, g, b, _ = color\n",
    "        text_color = 'white' if r * g * b < 0.5 else 'darkgrey'\n",
    "        ax.bar_label(rects, label_type='center', color=text_color)\n",
    "    ax.legend(ncols=len(category_names), bbox_to_anchor=(0, 1),\n",
    "              loc='upper left', fontsize='small')\n",
    "\n",
    "    return fig, ax"
   ]
  },
  {
   "cell_type": "markdown",
   "id": "9eacc62e",
   "metadata": {},
   "source": [
    "# C=0.1"
   ]
  },
  {
   "cell_type": "code",
   "execution_count": null,
   "id": "19cc810e",
   "metadata": {
    "scrolled": true
   },
   "outputs": [],
   "source": [
    "import pandas as pd\n",
    "import numpy as np\n",
    "# opt#1\n",
    "res = pd.read_csv(\"102datasets_5CV(SLS_opt#1_c0.1).csv\")\n",
    "res = res.dropna(axis=0)\n",
    "res = res.rename(columns={'SLS(0.0)':'Hard'})\n",
    "res"
   ]
  },
  {
   "cell_type": "code",
   "execution_count": null,
   "id": "5a8258a3",
   "metadata": {
    "scrolled": true
   },
   "outputs": [],
   "source": [
    "df_acc = res[res.iloc[:,0] == 'Acc']\n",
    "df_acc = df_acc.reset_index(drop=True)\n",
    "df_acc = df_acc.iloc[:,1:].astype(float)\n",
    "df_acc"
   ]
  },
  {
   "cell_type": "code",
   "execution_count": null,
   "id": "cb4e6552",
   "metadata": {
    "scrolled": true
   },
   "outputs": [],
   "source": [
    "df_acc_best = df_acc.iloc[:,1:3]\n",
    "df_sls = df_acc.iloc[:,3:]\n",
    "max_sls_list = []\n",
    "for repeat in range(len(df_acc)):\n",
    "    df_sls_repeat = pd.DataFrame(df_sls.iloc[repeat,:])\n",
    "    max_sls = np.max(df_sls_repeat.iloc[:,0])\n",
    "    max_sls_list.append(max_sls)\n",
    "df_acc_best['SLS_MAX'] = max_sls_list\n",
    "df_acc_best"
   ]
  },
  {
   "cell_type": "code",
   "execution_count": null,
   "id": "561fb488",
   "metadata": {},
   "outputs": [],
   "source": [
    "r = 0.001"
   ]
  },
  {
   "cell_type": "code",
   "execution_count": null,
   "id": "d46f9af7",
   "metadata": {},
   "outputs": [],
   "source": [
    "# Bayesian Sign Test\n",
    "\n",
    "rope = r\n",
    "baselines = ['Focal','Hard']\n",
    "ours = ['SLS_MAX']\n",
    "dfs = [df_acc_best]\n",
    "\n",
    "comp = []\n",
    "basewin = []\n",
    "draw = []\n",
    "ourswin = []\n",
    "z = 0\n",
    "for i in range(len(ours)):\n",
    "    for j in range(len(baselines)):\n",
    "#         print(z)\n",
    "        names = (baselines[j],ours[i])\n",
    "#         print(names)\n",
    "        comp.append(names)\n",
    "        X = np.array(dfs[i][[baselines[j],ours[i]]])\n",
    "        left, within, right = bt.signtest(X, rope=rope, verbose=True, names=names)\n",
    "#         print(left, within, right)\n",
    "        basewin.append(left)\n",
    "        draw.append(within)\n",
    "        ourswin.append(right)        \n",
    "results = pd.DataFrame(comp, columns = [\"Baseline\",\"Ours\"])\n",
    "results[\"Basewin_prob\"] = basewin\n",
    "results[\"Draw_prob\"] = draw\n",
    "results[\"Ourswin_prob\"] = ourswin\n",
    "results"
   ]
  },
  {
   "cell_type": "markdown",
   "id": "9c3fb928",
   "metadata": {},
   "source": [
    "# C=0.2"
   ]
  },
  {
   "cell_type": "code",
   "execution_count": null,
   "id": "4207d516",
   "metadata": {},
   "outputs": [],
   "source": [
    "res = pd.read_csv(\"102datasets_5CV(SLS_opt#1_c0.2).csv\")\n",
    "res = res.dropna(axis=0)\n",
    "res = res.rename(columns={'SLS(0.0)':'Hard'})\n",
    "df_acc = res[res.iloc[:,0] == 'Acc']\n",
    "df_acc = df_acc.reset_index(drop=True)\n",
    "df_acc = df_acc.iloc[:,1:].astype(float)\n",
    "col_name = res.columns[2:]\n",
    "ave = []\n",
    "std = []\n",
    "for i in range(12):\n",
    "    ave.append(np.mean(list(df_acc.iloc[:,i+1])))\n",
    "    std.append(np.std(list(df_acc.iloc[:,i+1])))\n",
    "final = pd.DataFrame(ave, index=col_name, columns=[\"mean\"])\n",
    "final['std'] = std\n",
    "final.sort_values(\"mean\", ascending=False)"
   ]
  },
  {
   "cell_type": "code",
   "execution_count": null,
   "id": "cdf0926b",
   "metadata": {},
   "outputs": [],
   "source": [
    "df_acc_best = df_acc.iloc[:,1:3]\n",
    "df_sls = df_acc.iloc[:,3:]\n",
    "max_sls_list = []\n",
    "for repeat in range(len(df_acc)):\n",
    "    df_sls_repeat = pd.DataFrame(df_sls.iloc[repeat,:])\n",
    "    max_sls = np.max(df_sls_repeat.iloc[:,0])\n",
    "    max_sls_list.append(max_sls)\n",
    "df_acc_best['SLS_MAX'] = max_sls_list\n",
    "df_acc_best"
   ]
  },
  {
   "cell_type": "code",
   "execution_count": null,
   "id": "b647e3c1",
   "metadata": {},
   "outputs": [],
   "source": [
    "# Bayesian Sign Test\n",
    "\n",
    "rope = r\n",
    "baselines = ['Focal','Hard']\n",
    "ours = ['SLS_MAX']\n",
    "dfs = [df_acc_best]\n",
    "\n",
    "comp = []\n",
    "basewin = []\n",
    "draw = []\n",
    "ourswin = []\n",
    "z = 0\n",
    "for i in range(len(ours)):\n",
    "    for j in range(len(baselines)):\n",
    "#         print(z)\n",
    "        names = (baselines[j],ours[i])\n",
    "#         print(names)\n",
    "        comp.append(names)\n",
    "        X = np.array(dfs[i][[baselines[j],ours[i]]])\n",
    "        left, within, right = bt.signtest(X, rope=rope, verbose=True, names=names)\n",
    "#         print(left, within, right)\n",
    "        basewin.append(left)\n",
    "        draw.append(within)\n",
    "        ourswin.append(right)        \n",
    "results = pd.DataFrame(comp, columns = [\"Baseline\",\"Ours\"])\n",
    "results[\"Basewin_prob\"] = basewin\n",
    "results[\"Draw_prob\"] = draw\n",
    "results[\"Ourswin_prob\"] = ourswin\n",
    "results"
   ]
  },
  {
   "cell_type": "markdown",
   "id": "2f3c1d08",
   "metadata": {},
   "source": [
    "# C=0.3"
   ]
  },
  {
   "cell_type": "code",
   "execution_count": null,
   "id": "cff88740",
   "metadata": {},
   "outputs": [],
   "source": [
    "res = pd.read_csv(\"102datasets_5CV(SLS_opt#1_c0.3).csv\")\n",
    "res = res.dropna(axis=0)\n",
    "res = res.rename(columns={'SLS(0.0)':'Hard'})\n",
    "df_acc = res[res.iloc[:,0] == 'Acc']\n",
    "df_acc = df_acc.reset_index(drop=True)\n",
    "df_acc = df_acc.iloc[:,1:].astype(float)\n",
    "col_name = res.columns[2:]\n",
    "ave = []\n",
    "std = []\n",
    "for i in range(12):\n",
    "    ave.append(np.mean(list(df_acc.iloc[:,i+1])))\n",
    "    std.append(np.std(list(df_acc.iloc[:,i+1])))\n",
    "final = pd.DataFrame(ave, index=col_name, columns=[\"mean\"])\n",
    "final['std'] = std\n",
    "final.sort_values(\"mean\", ascending=False)"
   ]
  },
  {
   "cell_type": "code",
   "execution_count": null,
   "id": "7a7a1035",
   "metadata": {},
   "outputs": [],
   "source": [
    "df_acc_best = df_acc.iloc[:,1:3]\n",
    "df_sls = df_acc.iloc[:,3:]\n",
    "max_sls_list = []\n",
    "for repeat in range(len(df_acc)):\n",
    "    df_sls_repeat = pd.DataFrame(df_sls.iloc[repeat,:])\n",
    "    max_sls = np.max(df_sls_repeat.iloc[:,0])\n",
    "    max_sls_list.append(max_sls)\n",
    "df_acc_best['SLS_MAX'] = max_sls_list\n",
    "df_acc_best"
   ]
  },
  {
   "cell_type": "code",
   "execution_count": null,
   "id": "74da156e",
   "metadata": {},
   "outputs": [],
   "source": [
    "# Bayesian Sign Test\n",
    "\n",
    "rope = r\n",
    "baselines = ['Focal','Hard']\n",
    "ours = ['SLS_MAX']\n",
    "dfs = [df_acc_best]\n",
    "\n",
    "comp = []\n",
    "basewin = []\n",
    "draw = []\n",
    "ourswin = []\n",
    "z = 0\n",
    "for i in range(len(ours)):\n",
    "    for j in range(len(baselines)):\n",
    "#         print(z)\n",
    "        names = (baselines[j],ours[i])\n",
    "#         print(names)\n",
    "        comp.append(names)\n",
    "        X = np.array(dfs[i][[baselines[j],ours[i]]])\n",
    "        left, within, right = bt.signtest(X, rope=rope, verbose=True, names=names)\n",
    "#         print(left, within, right)\n",
    "        basewin.append(left)\n",
    "        draw.append(within)\n",
    "        ourswin.append(right)        \n",
    "results = pd.DataFrame(comp, columns = [\"Baseline\",\"Ours\"])\n",
    "results[\"Basewin_prob\"] = basewin\n",
    "results[\"Draw_prob\"] = draw\n",
    "results[\"Ourswin_prob\"] = ourswin\n",
    "results"
   ]
  },
  {
   "cell_type": "code",
   "execution_count": null,
   "id": "4249ccf6",
   "metadata": {},
   "outputs": [],
   "source": []
  },
  {
   "cell_type": "code",
   "execution_count": null,
   "id": "cf6eb011",
   "metadata": {},
   "outputs": [],
   "source": []
  },
  {
   "cell_type": "code",
   "execution_count": null,
   "id": "3303a51a",
   "metadata": {},
   "outputs": [],
   "source": []
  },
  {
   "cell_type": "code",
   "execution_count": null,
   "id": "9150478f",
   "metadata": {},
   "outputs": [],
   "source": []
  },
  {
   "cell_type": "code",
   "execution_count": null,
   "id": "d5e35158",
   "metadata": {},
   "outputs": [],
   "source": []
  },
  {
   "cell_type": "code",
   "execution_count": null,
   "id": "a2ba2432",
   "metadata": {},
   "outputs": [],
   "source": []
  },
  {
   "cell_type": "code",
   "execution_count": null,
   "id": "2ddc9836",
   "metadata": {},
   "outputs": [],
   "source": []
  },
  {
   "cell_type": "code",
   "execution_count": null,
   "id": "be4d8ffa",
   "metadata": {},
   "outputs": [],
   "source": []
  },
  {
   "cell_type": "code",
   "execution_count": null,
   "id": "5a0986d0",
   "metadata": {},
   "outputs": [],
   "source": []
  },
  {
   "cell_type": "code",
   "execution_count": null,
   "id": "3b68959f",
   "metadata": {},
   "outputs": [],
   "source": []
  },
  {
   "cell_type": "code",
   "execution_count": null,
   "id": "70c9e33d",
   "metadata": {},
   "outputs": [],
   "source": []
  }
 ],
 "metadata": {
  "kernelspec": {
   "display_name": "Python 3 (ipykernel)",
   "language": "python",
   "name": "python3"
  },
  "language_info": {
   "codemirror_mode": {
    "name": "ipython",
    "version": 3
   },
   "file_extension": ".py",
   "mimetype": "text/x-python",
   "name": "python",
   "nbconvert_exporter": "python",
   "pygments_lexer": "ipython3",
   "version": "3.8.0"
  }
 },
 "nbformat": 4,
 "nbformat_minor": 5
}
