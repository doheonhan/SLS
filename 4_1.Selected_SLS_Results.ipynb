{
 "cells": [
  {
   "cell_type": "code",
   "execution_count": null,
   "id": "f3cac6ea",
   "metadata": {},
   "outputs": [],
   "source": [
    "import bayesiantests as bt\n",
    "import matplotlib.pyplot as plt\n",
    "\n",
    "def stacked_bar(results, category_names):\n",
    "    \"\"\"\n",
    "    Parameters\n",
    "    ----------\n",
    "    results : dict\n",
    "        A mapping from question labels to a list of answers per category.\n",
    "        It is assumed all lists contain the same number of entries and that\n",
    "        it matches the length of *category_names*.\n",
    "    category_names : list of str\n",
    "        The category labels.\n",
    "    \"\"\"\n",
    "    labels = list(results.keys())\n",
    "    data = np.array(list(results.values()))\n",
    "    data_cum = data.cumsum(axis=1)\n",
    "    category_colors = plt.colormaps['RdYlGn'](\n",
    "        np.linspace(0.15, 0.85, data.shape[1]))\n",
    "\n",
    "    fig, ax = plt.subplots(figsize=(9.2, 5))\n",
    "    ax.invert_yaxis()\n",
    "    ax.xaxis.set_visible(False)\n",
    "    ax.set_xlim(0, np.sum(data, axis=1).max())\n",
    "\n",
    "    for i, (colname, color) in enumerate(zip(category_names, category_colors)):\n",
    "        widths = data[:, i]\n",
    "        starts = data_cum[:, i] - widths\n",
    "        rects = ax.barh(labels, widths, left=starts, height=0.5,\n",
    "                        label=colname, color=color)\n",
    "\n",
    "        r, g, b, _ = color\n",
    "        text_color = 'white' if r * g * b < 0.5 else 'darkgrey'\n",
    "        ax.bar_label(rects, label_type='center', color=text_color)\n",
    "    ax.legend(ncols=len(category_names), bbox_to_anchor=(0, 1),\n",
    "              loc='upper left', fontsize='small')\n",
    "\n",
    "    return fig, ax"
   ]
  },
  {
   "cell_type": "markdown",
   "id": "9c16326a",
   "metadata": {},
   "source": [
    "# 10%"
   ]
  },
  {
   "cell_type": "code",
   "execution_count": null,
   "id": "19cc810e",
   "metadata": {
    "scrolled": true
   },
   "outputs": [],
   "source": [
    "import pandas as pd\n",
    "import numpy as np\n",
    "res = pd.read_csv(\"102datasets_5CV(SLS_sel_group_0.1).csv\")  # first 10 percent samples have more weights\n",
    "res = res.dropna(axis=0)\n",
    "res = res.rename(columns={'SLS(0.0)':'Hard'})\n",
    "res"
   ]
  },
  {
   "cell_type": "code",
   "execution_count": null,
   "id": "5a8258a3",
   "metadata": {
    "scrolled": false
   },
   "outputs": [],
   "source": [
    "df_acc = res[(res.iloc[:,0] == 'Acc') | (res.iloc[:,0] == 'G_Acc')]\n",
    "df_acc = df_acc.reset_index(drop=True)\n",
    "df_acc = df_acc.iloc[:,1:].astype(float)\n",
    "df_acc"
   ]
  },
  {
   "cell_type": "markdown",
   "id": "6a649255",
   "metadata": {},
   "source": [
    "### take1: VIsualization"
   ]
  },
  {
   "cell_type": "code",
   "execution_count": null,
   "id": "ff7c25da",
   "metadata": {},
   "outputs": [],
   "source": [
    "acc_list = []\n",
    "for i in range(1, 106):\n",
    "    if i == 23 or i == 82 or i == 84:\n",
    "        continue\n",
    "    df_i = df_acc[df_acc.Dataset == i]\n",
    "    df_i2 = df_i.iloc[:,3:]\n",
    "    df_i2 = df_i2.reset_index(drop=True)\n",
    "    max_val_1 = max(df_i2.iloc[1,:])\n",
    "    each_1 = pd.DataFrame(df_i2.iloc[1,:])\n",
    "    col_list = list(each_1.index[(each_1.iloc[:,0] != max_val_1)])\n",
    "    df_i2_new = df_i2\n",
    "    for i in range(len(col_list)):\n",
    "        df_i2_new = df_i2_new.drop(col_list[i], axis=1)\n",
    "    max_val_0 = max(df_i2_new.iloc[0,:])\n",
    "    each_0 = pd.DataFrame(df_i2_new.iloc[0,:])\n",
    "    col = list(each_0.index[(each_0.iloc[:,0] == max_val_0)])[0]\n",
    "    acc_list.append(list(df_i2.loc[:,col])[0])\n",
    "    acc_list.append(list(df_i2.loc[:,col])[1])\n",
    "len(acc_list)"
   ]
  },
  {
   "cell_type": "code",
   "execution_count": null,
   "id": "0d3c1a16",
   "metadata": {},
   "outputs": [],
   "source": [
    "df_acc_res = df_acc.iloc[:,1:3]\n",
    "df_acc_res['SLS_MAX'] = acc_list\n",
    "df_acc_res"
   ]
  },
  {
   "cell_type": "code",
   "execution_count": null,
   "id": "6a7efe91",
   "metadata": {},
   "outputs": [],
   "source": [
    "df_acc_res_0 = df_acc_res.iloc[::2,:]    # Accuracy\n",
    "df_acc_res_0[\"SLS-FL\"] = df_acc_res_0[\"SLS_MAX\"] - df_acc_res_0[\"Focal\"]\n",
    "df_acc_res_0"
   ]
  },
  {
   "cell_type": "code",
   "execution_count": null,
   "id": "8dd6c65c",
   "metadata": {},
   "outputs": [],
   "source": [
    "df_acc_res_1 = df_acc_res.iloc[1::2,:]    # G_Accuracy\n",
    "df_acc_res_1[\"SLS-FL\"] = df_acc_res_1[\"SLS_MAX\"] - df_acc_res_1[\"Focal\"]\n",
    "df_acc_res_1"
   ]
  },
  {
   "cell_type": "code",
   "execution_count": null,
   "id": "ee3af05a",
   "metadata": {},
   "outputs": [],
   "source": [
    "plt.rcParams[\"figure.dpi\"] = 200\n",
    "plt.rcParams['axes.titlesize'] = 20  \n",
    "plt.rcParams['axes.linewidth'] = 2\n",
    "plt.rcParams['axes.labelsize'] = 20  \n",
    "plt.rcParams['font.size'] = 15\n",
    "plt.rc('xtick', labelsize=10)\n",
    "plt.xticks(rotation=90)\n",
    "\n",
    "plt.title('SLS-FL (10%)')\n",
    "plt.xlabel('Datasets')\n",
    "plt.ylabel('Δ Acc.')\n",
    "\n",
    "xaxis = range(1,103)\n",
    "\n",
    "plt.axhline(0, 0.01, 0.99, color='darkgray', linestyle='--', linewidth=3)\n",
    "\n",
    "plt.plot(xaxis, df_acc_res_0[\"SLS-FL\"], linewidth=2.0, label = 'Overall')\n",
    "plt.plot(xaxis, df_acc_res_1[\"SLS-FL\"], linewidth=2.0, label = 'First 10%')\n",
    "\n",
    "plt.ylim(-0.15,0.25) \n",
    "plt.legend(ncol=4, fontsize=11, loc='lower center')\n",
    "plt.show()"
   ]
  },
  {
   "cell_type": "markdown",
   "id": "140f7306",
   "metadata": {},
   "source": [
    "### take2"
   ]
  },
  {
   "cell_type": "code",
   "execution_count": null,
   "id": "d4d57c41",
   "metadata": {},
   "outputs": [],
   "source": [
    "df_acc_res_0"
   ]
  },
  {
   "cell_type": "code",
   "execution_count": null,
   "id": "29ca4419",
   "metadata": {},
   "outputs": [],
   "source": [
    "r = 0.001"
   ]
  },
  {
   "cell_type": "code",
   "execution_count": null,
   "id": "d46f9af7",
   "metadata": {},
   "outputs": [],
   "source": [
    "# Bayesian Sign Test\n",
    "\n",
    "rope = r\n",
    "baselines = ['Focal']\n",
    "ours = ['SLS_MAX']\n",
    "dfs = [df_acc_res_0]\n",
    "\n",
    "comp = []\n",
    "basewin = []\n",
    "draw = []\n",
    "ourswin = []\n",
    "z = 0\n",
    "for i in range(len(ours)):\n",
    "    for j in range(len(baselines)):\n",
    "#         print(z)\n",
    "        names = (baselines[j],ours[i])\n",
    "#         print(names)\n",
    "        comp.append(names)\n",
    "        X = np.array(dfs[i][[baselines[j],ours[i]]])\n",
    "        left, within, right = bt.signtest(X, rope=rope, verbose=True, names=names)\n",
    "#         print(left, within, right)\n",
    "        basewin.append(left)\n",
    "        draw.append(within)\n",
    "        ourswin.append(right)        \n",
    "results = pd.DataFrame(comp, columns = [\"Baseline\",\"Ours\"])\n",
    "results[\"Basewin_prob\"] = basewin\n",
    "results[\"Draw_prob\"] = draw\n",
    "results[\"Ourswin_prob\"] = ourswin\n",
    "results"
   ]
  },
  {
   "cell_type": "markdown",
   "id": "9e08a4e8",
   "metadata": {},
   "source": [
    "### Take3"
   ]
  },
  {
   "cell_type": "code",
   "execution_count": null,
   "id": "d87a69e9",
   "metadata": {},
   "outputs": [],
   "source": [
    "df_acc_res_1"
   ]
  },
  {
   "cell_type": "code",
   "execution_count": null,
   "id": "32d08b2f",
   "metadata": {},
   "outputs": [],
   "source": [
    "r = 0.001"
   ]
  },
  {
   "cell_type": "code",
   "execution_count": null,
   "id": "e5bed7d0",
   "metadata": {},
   "outputs": [],
   "source": [
    "# Bayesian Sign Test\n",
    "\n",
    "rope = r\n",
    "baselines = ['Focal']\n",
    "ours = ['SLS_MAX']\n",
    "dfs = [df_acc_res_1]\n",
    "\n",
    "comp = []\n",
    "basewin = []\n",
    "draw = []\n",
    "ourswin = []\n",
    "z = 0\n",
    "for i in range(len(ours)):\n",
    "    for j in range(len(baselines)):\n",
    "#         print(z)\n",
    "        names = (baselines[j],ours[i])\n",
    "#         print(names)\n",
    "        comp.append(names)\n",
    "        X = np.array(dfs[i][[baselines[j],ours[i]]])\n",
    "        left, within, right = bt.signtest(X, rope=rope, verbose=True, names=names)\n",
    "#         print(left, within, right)\n",
    "        basewin.append(left)\n",
    "        draw.append(within)\n",
    "        ourswin.append(right)        \n",
    "results = pd.DataFrame(comp, columns = [\"Baseline\",\"Ours\"])\n",
    "results[\"Basewin_prob\"] = basewin\n",
    "results[\"Draw_prob\"] = draw\n",
    "results[\"Ourswin_prob\"] = ourswin\n",
    "results"
   ]
  },
  {
   "cell_type": "code",
   "execution_count": null,
   "id": "a7c3a920",
   "metadata": {},
   "outputs": [],
   "source": []
  },
  {
   "cell_type": "markdown",
   "id": "49f8c070",
   "metadata": {},
   "source": [
    "# 20%"
   ]
  },
  {
   "cell_type": "code",
   "execution_count": null,
   "id": "cdf0926b",
   "metadata": {
    "scrolled": true
   },
   "outputs": [],
   "source": [
    "res = pd.read_csv(\"102datasets_5CV(SLS_sel_group_0.2).csv\")  # first 20 percent samples have more weights\n",
    "res = res.dropna(axis=0)\n",
    "res = res.rename(columns={'SLS(0.0)':'Hard'})\n",
    "df_acc = res[(res.iloc[:,0] == 'Acc') | (res.iloc[:,0] == 'G_Acc')]     # Take1\n",
    "df_acc = df_acc.reset_index(drop=True)\n",
    "df_acc = df_acc.iloc[:,1:].astype(float)\n",
    "df_acc"
   ]
  },
  {
   "cell_type": "markdown",
   "id": "7e959204",
   "metadata": {},
   "source": [
    "### take1: VIsualization"
   ]
  },
  {
   "cell_type": "code",
   "execution_count": null,
   "id": "2739afca",
   "metadata": {},
   "outputs": [],
   "source": [
    "acc_list = []\n",
    "for i in range(1, 106):\n",
    "    if i == 23 or i == 82 or i == 84:\n",
    "        continue\n",
    "    df_i = df_acc[df_acc.Dataset == i]\n",
    "    df_i2 = df_i.iloc[:,3:]\n",
    "    df_i2 = df_i2.reset_index(drop=True)\n",
    "    max_val_1 = max(df_i2.iloc[1,:])\n",
    "    each_1 = pd.DataFrame(df_i2.iloc[1,:])\n",
    "    col_list = list(each_1.index[(each_1.iloc[:,0] != max_val_1)])\n",
    "    df_i2_new = df_i2\n",
    "    for i in range(len(col_list)):\n",
    "        df_i2_new = df_i2_new.drop(col_list[i], axis=1)\n",
    "    max_val_0 = max(df_i2_new.iloc[0,:])\n",
    "    each_0 = pd.DataFrame(df_i2_new.iloc[0,:])\n",
    "    col = list(each_0.index[(each_0.iloc[:,0] == max_val_0)])[0]\n",
    "    acc_list.append(list(df_i2.loc[:,col])[0])\n",
    "    acc_list.append(list(df_i2.loc[:,col])[1])\n",
    "    \n",
    "df_acc_res = df_acc.iloc[:,1:3]\n",
    "df_acc_res['SLS_MAX'] = acc_list\n",
    "df_acc_res_0 = df_acc_res.iloc[::2,:]    # Accuracy\n",
    "df_acc_res_0[\"SLS-FL\"] = df_acc_res_0[\"SLS_MAX\"] - df_acc_res_0[\"Focal\"]\n",
    "df_acc_res_1 = df_acc_res.iloc[1::2,:]    # G_Accuracy\n",
    "df_acc_res_1[\"SLS-FL\"] = df_acc_res_1[\"SLS_MAX\"] - df_acc_res_1[\"Focal\"]\n",
    "\n",
    "plt.rcParams[\"figure.dpi\"] = 200\n",
    "plt.rcParams['axes.titlesize'] = 20  \n",
    "plt.rcParams['axes.linewidth'] = 2\n",
    "plt.rcParams['axes.labelsize'] = 20  \n",
    "plt.rcParams['font.size'] = 15\n",
    "plt.rc('xtick', labelsize=10)\n",
    "plt.xticks(rotation=90)\n",
    "\n",
    "plt.title('SLS-FL (20%)')\n",
    "plt.xlabel('Datasets')\n",
    "plt.ylabel('Δ Acc')\n",
    "\n",
    "xaxis = range(1,103)\n",
    "\n",
    "plt.axhline(0, 0.01, 0.99, color='darkgray', linestyle='--', linewidth=3)\n",
    "\n",
    "plt.plot(xaxis, df_acc_res_0[\"SLS-FL\"], linewidth=2.0, label = 'Overall')\n",
    "plt.plot(xaxis, df_acc_res_1[\"SLS-FL\"], linewidth=2.0, label = 'First 20%')\n",
    "\n",
    "plt.ylim(-0.15,0.25) \n",
    "plt.legend(ncol=4, fontsize=11, loc='lower center')\n",
    "plt.show()"
   ]
  },
  {
   "cell_type": "markdown",
   "id": "0e0443d8",
   "metadata": {},
   "source": [
    "### take2"
   ]
  },
  {
   "cell_type": "code",
   "execution_count": null,
   "id": "8432f85b",
   "metadata": {},
   "outputs": [],
   "source": [
    "df_acc_res_0\n",
    "r = 0.001\n",
    "# Bayesian Sign Test\n",
    "\n",
    "rope = r\n",
    "baselines = ['Focal']\n",
    "ours = ['SLS_MAX']\n",
    "dfs = [df_acc_res_0]\n",
    "\n",
    "comp = []\n",
    "basewin = []\n",
    "draw = []\n",
    "ourswin = []\n",
    "z = 0\n",
    "for i in range(len(ours)):\n",
    "    for j in range(len(baselines)):\n",
    "#         print(z)\n",
    "        names = (baselines[j],ours[i])\n",
    "#         print(names)\n",
    "        comp.append(names)\n",
    "        X = np.array(dfs[i][[baselines[j],ours[i]]])\n",
    "        left, within, right = bt.signtest(X, rope=rope, verbose=True, names=names)\n",
    "#         print(left, within, right)\n",
    "        basewin.append(left)\n",
    "        draw.append(within)\n",
    "        ourswin.append(right)        \n",
    "results = pd.DataFrame(comp, columns = [\"Baseline\",\"Ours\"])\n",
    "results[\"Basewin_prob\"] = basewin\n",
    "results[\"Draw_prob\"] = draw\n",
    "results[\"Ourswin_prob\"] = ourswin\n",
    "results"
   ]
  },
  {
   "cell_type": "markdown",
   "id": "c6afff50",
   "metadata": {},
   "source": [
    "### Take3"
   ]
  },
  {
   "cell_type": "code",
   "execution_count": null,
   "id": "a941d32b",
   "metadata": {},
   "outputs": [],
   "source": [
    "df_acc_res_1\n",
    "r = 0.001\n",
    "# Bayesian Sign Test\n",
    "\n",
    "rope = r\n",
    "baselines = ['Focal']\n",
    "ours = ['SLS_MAX']\n",
    "dfs = [df_acc_res_1]\n",
    "\n",
    "comp = []\n",
    "basewin = []\n",
    "draw = []\n",
    "ourswin = []\n",
    "z = 0\n",
    "for i in range(len(ours)):\n",
    "    for j in range(len(baselines)):\n",
    "#         print(z)\n",
    "        names = (baselines[j],ours[i])\n",
    "#         print(names)\n",
    "        comp.append(names)\n",
    "        X = np.array(dfs[i][[baselines[j],ours[i]]])\n",
    "        left, within, right = bt.signtest(X, rope=rope, verbose=True, names=names)\n",
    "#         print(left, within, right)\n",
    "        basewin.append(left)\n",
    "        draw.append(within)\n",
    "        ourswin.append(right)        \n",
    "results = pd.DataFrame(comp, columns = [\"Baseline\",\"Ours\"])\n",
    "results[\"Basewin_prob\"] = basewin\n",
    "results[\"Draw_prob\"] = draw\n",
    "results[\"Ourswin_prob\"] = ourswin\n",
    "results"
   ]
  },
  {
   "cell_type": "code",
   "execution_count": null,
   "id": "53acc646",
   "metadata": {},
   "outputs": [],
   "source": []
  },
  {
   "cell_type": "code",
   "execution_count": null,
   "id": "28252ce4",
   "metadata": {},
   "outputs": [],
   "source": []
  },
  {
   "cell_type": "markdown",
   "id": "da736633",
   "metadata": {},
   "source": [
    "# 30%"
   ]
  },
  {
   "cell_type": "code",
   "execution_count": null,
   "id": "78781f4c",
   "metadata": {
    "scrolled": true
   },
   "outputs": [],
   "source": [
    "res = pd.read_csv(\"102datasets_5CV(SLS_sel_group_0.3).csv\")  # first 10 percent samples have more weights\n",
    "res = res.dropna(axis=0)\n",
    "res = res.rename(columns={'SLS(0.0)':'Hard'})\n",
    "df_acc = res[(res.iloc[:,0] == 'Acc') | (res.iloc[:,0] == 'G_Acc')]   # Take1\n",
    "df_acc = df_acc.reset_index(drop=True)\n",
    "df_acc = df_acc.iloc[:,1:].astype(float)\n",
    "df_acc"
   ]
  },
  {
   "cell_type": "markdown",
   "id": "665fb8ea",
   "metadata": {},
   "source": [
    "### take1: VIsualization"
   ]
  },
  {
   "cell_type": "code",
   "execution_count": null,
   "id": "15cc28a2",
   "metadata": {},
   "outputs": [],
   "source": [
    "acc_list = []\n",
    "for i in range(1, 106):\n",
    "    if i == 23 or i == 82 or i == 84:\n",
    "        continue\n",
    "    df_i = df_acc[df_acc.Dataset == i]\n",
    "    df_i2 = df_i.iloc[:,3:]\n",
    "    df_i2 = df_i2.reset_index(drop=True)\n",
    "    max_val_1 = max(df_i2.iloc[1,:])\n",
    "    each_1 = pd.DataFrame(df_i2.iloc[1,:])\n",
    "    col_list = list(each_1.index[(each_1.iloc[:,0] != max_val_1)])\n",
    "    df_i2_new = df_i2\n",
    "    for i in range(len(col_list)):\n",
    "        df_i2_new = df_i2_new.drop(col_list[i], axis=1)\n",
    "    max_val_0 = max(df_i2_new.iloc[0,:])\n",
    "    each_0 = pd.DataFrame(df_i2_new.iloc[0,:])\n",
    "    col = list(each_0.index[(each_0.iloc[:,0] == max_val_0)])[0]\n",
    "    acc_list.append(list(df_i2.loc[:,col])[0])\n",
    "    acc_list.append(list(df_i2.loc[:,col])[1])\n",
    "    \n",
    "df_acc_res = df_acc.iloc[:,1:3]\n",
    "df_acc_res['SLS_MAX'] = acc_list\n",
    "df_acc_res_0 = df_acc_res.iloc[::2,:]    # Accuracy\n",
    "df_acc_res_0[\"SLS-FL\"] = df_acc_res_0[\"SLS_MAX\"] - df_acc_res_0[\"Focal\"]\n",
    "df_acc_res_1 = df_acc_res.iloc[1::2,:]    # G_Accuracy\n",
    "df_acc_res_1[\"SLS-FL\"] = df_acc_res_1[\"SLS_MAX\"] - df_acc_res_1[\"Focal\"]\n",
    "\n",
    "plt.rcParams[\"figure.dpi\"] = 200\n",
    "plt.rcParams['axes.titlesize'] = 20  \n",
    "plt.rcParams['axes.linewidth'] = 2\n",
    "plt.rcParams['axes.labelsize'] = 20  \n",
    "plt.rcParams['font.size'] = 15\n",
    "plt.rc('xtick', labelsize=10)\n",
    "plt.xticks(rotation=90)\n",
    "\n",
    "plt.title('SLS-FL (20%)')\n",
    "plt.xlabel('Datasets')\n",
    "plt.ylabel('Δ Acc')\n",
    "\n",
    "xaxis = range(1,103)\n",
    "\n",
    "plt.axhline(0, 0.01, 0.99, color='darkgray', linestyle='--', linewidth=3)\n",
    "\n",
    "plt.plot(xaxis, df_acc_res_0[\"SLS-FL\"], linewidth=2.0, label = 'Overall')\n",
    "plt.plot(xaxis, df_acc_res_1[\"SLS-FL\"], linewidth=2.0, label = 'First 30%')\n",
    "\n",
    "plt.ylim(-0.15,0.25)\n",
    "plt.legend(ncol=4, fontsize=11, loc='lower center')\n",
    "plt.show()"
   ]
  },
  {
   "cell_type": "markdown",
   "id": "692d4aeb",
   "metadata": {},
   "source": [
    "### take2"
   ]
  },
  {
   "cell_type": "code",
   "execution_count": null,
   "id": "97a52d1a",
   "metadata": {
    "scrolled": true
   },
   "outputs": [],
   "source": [
    "df_acc_res_0\n",
    "r = 0.001\n",
    "# Bayesian Sign Test\n",
    "\n",
    "rope = r\n",
    "baselines = ['Focal']\n",
    "ours = ['SLS_MAX']\n",
    "dfs = [df_acc_res_0]\n",
    "\n",
    "comp = []\n",
    "basewin = []\n",
    "draw = []\n",
    "ourswin = []\n",
    "z = 0\n",
    "for i in range(len(ours)):\n",
    "    for j in range(len(baselines)):\n",
    "#         print(z)\n",
    "        names = (baselines[j],ours[i])\n",
    "#         print(names)\n",
    "        comp.append(names)\n",
    "        X = np.array(dfs[i][[baselines[j],ours[i]]])\n",
    "        left, within, right = bt.signtest(X, rope=rope, verbose=True, names=names)\n",
    "#         print(left, within, right)\n",
    "        basewin.append(left)\n",
    "        draw.append(within)\n",
    "        ourswin.append(right)        \n",
    "results = pd.DataFrame(comp, columns = [\"Baseline\",\"Ours\"])\n",
    "results[\"Basewin_prob\"] = basewin\n",
    "results[\"Draw_prob\"] = draw\n",
    "results[\"Ourswin_prob\"] = ourswin\n",
    "results"
   ]
  },
  {
   "cell_type": "markdown",
   "id": "8f140a04",
   "metadata": {},
   "source": [
    "### Take3"
   ]
  },
  {
   "cell_type": "code",
   "execution_count": null,
   "id": "3e1dd198",
   "metadata": {},
   "outputs": [],
   "source": [
    "df_acc_res_1\n",
    "r = 0.001\n",
    "# Bayesian Sign Test\n",
    "\n",
    "rope = r\n",
    "baselines = ['Focal']\n",
    "ours = ['SLS_MAX']\n",
    "dfs = [df_acc_res_1]\n",
    "\n",
    "comp = []\n",
    "basewin = []\n",
    "draw = []\n",
    "ourswin = []\n",
    "z = 0\n",
    "for i in range(len(ours)):\n",
    "    for j in range(len(baselines)):\n",
    "#         print(z)\n",
    "        names = (baselines[j],ours[i])\n",
    "#         print(names)\n",
    "        comp.append(names)\n",
    "        X = np.array(dfs[i][[baselines[j],ours[i]]])\n",
    "        left, within, right = bt.signtest(X, rope=rope, verbose=True, names=names)\n",
    "#         print(left, within, right)\n",
    "        basewin.append(left)\n",
    "        draw.append(within)\n",
    "        ourswin.append(right)        \n",
    "results = pd.DataFrame(comp, columns = [\"Baseline\",\"Ours\"])\n",
    "results[\"Basewin_prob\"] = basewin\n",
    "results[\"Draw_prob\"] = draw\n",
    "results[\"Ourswin_prob\"] = ourswin\n",
    "results"
   ]
  },
  {
   "cell_type": "code",
   "execution_count": null,
   "id": "517ff5ae",
   "metadata": {},
   "outputs": [],
   "source": []
  },
  {
   "cell_type": "code",
   "execution_count": null,
   "id": "a996f929",
   "metadata": {},
   "outputs": [],
   "source": []
  },
  {
   "cell_type": "code",
   "execution_count": null,
   "id": "5e12e009",
   "metadata": {},
   "outputs": [],
   "source": []
  },
  {
   "cell_type": "code",
   "execution_count": null,
   "id": "9ad0b895",
   "metadata": {},
   "outputs": [],
   "source": []
  },
  {
   "cell_type": "code",
   "execution_count": null,
   "id": "2fe90b81",
   "metadata": {},
   "outputs": [],
   "source": []
  }
 ],
 "metadata": {
  "kernelspec": {
   "display_name": "Python 3 (ipykernel)",
   "language": "python",
   "name": "python3"
  },
  "language_info": {
   "codemirror_mode": {
    "name": "ipython",
    "version": 3
   },
   "file_extension": ".py",
   "mimetype": "text/x-python",
   "name": "python",
   "nbconvert_exporter": "python",
   "pygments_lexer": "ipython3",
   "version": "3.8.0"
  }
 },
 "nbformat": 4,
 "nbformat_minor": 5
}
