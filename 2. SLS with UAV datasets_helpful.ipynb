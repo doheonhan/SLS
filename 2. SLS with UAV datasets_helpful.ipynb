{
 "cells": [
  {
   "cell_type": "code",
   "execution_count": null,
   "id": "4b967ae5",
   "metadata": {
    "scrolled": true
   },
   "outputs": [],
   "source": [
    "import pandas as pd\n",
    "import numpy as np\n",
    "import re\n",
    "gf = pd.read_csv(\"post_text6.csv\")\n",
    "gf"
   ]
  },
  {
   "cell_type": "code",
   "execution_count": null,
   "id": "b0536c21",
   "metadata": {
    "scrolled": true
   },
   "outputs": [],
   "source": [
    "new_visit=[]\n",
    "for i in range(len(gf)):\n",
    "    if gf[\"visit\"][i].isdigit() == True:\n",
    "        new_visit.append(gf[\"visit\"][i])\n",
    "    else:\n",
    "        new_visit.append(int(float(gf[\"visit\"][i].replace('k',''))*1000))\n",
    "gf['visit'] = new_visit"
   ]
  },
  {
   "cell_type": "code",
   "execution_count": null,
   "id": "ca87659d",
   "metadata": {
    "scrolled": true
   },
   "outputs": [],
   "source": [
    "new_read=[]\n",
    "for i in range(len(gf)):\n",
    "    if gf[\"read\"][i].isdigit() == True:\n",
    "        new_read.append(gf[\"read\"][i])\n",
    "    else:\n",
    "        if 'm' in gf[\"read\"][i]:\n",
    "            new_read.append(gf[\"read\"][i].replace('< ','').replace('m',''))\n",
    "        elif 'h' in gf[\"read\"][i]:\n",
    "            new_read.append(int(gf[\"read\"][i].replace('h',''))*60)\n",
    "        else:\n",
    "            new_read.append(int(gf[\"read\"][i].replace('d',''))*1440)\n",
    "gf['read'] = new_read"
   ]
  },
  {
   "cell_type": "code",
   "execution_count": null,
   "id": "59d03a2a",
   "metadata": {
    "scrolled": true
   },
   "outputs": [],
   "source": [
    "new_topic=[]\n",
    "for i in range(len(gf)):\n",
    "    if gf[\"topic\"][i].isdigit() == True:\n",
    "        new_topic.append(gf[\"topic\"][i])\n",
    "    else:\n",
    "        new_topic.append(int(float(gf[\"topic\"][i].replace('k',''))*1000))\n",
    "gf['topic'] = new_topic"
   ]
  },
  {
   "cell_type": "code",
   "execution_count": null,
   "id": "1021cf97",
   "metadata": {
    "scrolled": true
   },
   "outputs": [],
   "source": [
    "new_posts=[]\n",
    "for i in range(len(gf)):\n",
    "    if gf[\"posts\"][i].isdigit() == True:\n",
    "        new_posts.append(gf[\"posts\"][i])\n",
    "    else:\n",
    "        new_posts.append(int(float(gf[\"posts\"][i].replace('k',''))*1000))\n",
    "gf['posts'] = new_posts"
   ]
  },
  {
   "cell_type": "code",
   "execution_count": null,
   "id": "116f0ac6",
   "metadata": {
    "scrolled": true
   },
   "outputs": [],
   "source": [
    "new_given=[]\n",
    "for i in range(len(gf)):\n",
    "    if gf[\"given\"][i].isdigit() == True:\n",
    "        new_given.append(gf[\"given\"][i])\n",
    "    else:\n",
    "        new_given.append(int(float(gf[\"given\"][i].replace('k',''))*1000))\n",
    "gf['given'] = new_given"
   ]
  },
  {
   "cell_type": "code",
   "execution_count": null,
   "id": "694e8858",
   "metadata": {
    "scrolled": true
   },
   "outputs": [],
   "source": [
    "new_received=[]\n",
    "for i in range(len(gf)):\n",
    "    if gf[\"received\"][i].isdigit() == True:\n",
    "        new_received.append(gf[\"received\"][i])\n",
    "    else:\n",
    "        new_received.append(int(float(gf[\"received\"][i].replace('k',''))*1000))\n",
    "gf['received'] = new_received"
   ]
  },
  {
   "cell_type": "code",
   "execution_count": null,
   "id": "c7da77d7",
   "metadata": {
    "scrolled": true
   },
   "outputs": [],
   "source": [
    "new_post_c=[]\n",
    "for i in range(len(gf)):\n",
    "    if gf[\"post_c\"][i].isdigit() == True:\n",
    "        new_post_c.append(gf[\"post_c\"][i])\n",
    "    else:\n",
    "        new_post_c.append(int(float(gf[\"post_c\"][i].replace('k',''))*1000))\n",
    "gf['post_c'] = new_post_c"
   ]
  },
  {
   "cell_type": "code",
   "execution_count": null,
   "id": "35d95a48",
   "metadata": {},
   "outputs": [],
   "source": [
    "# Users\n",
    "U=[['system', 'leking2'], ['jschall'], ['josephjk', 'seanh', 'fireflyer451', 'Mohd_AbuRezeq'], ['prash319', 'StevieReyes'], ['chuckntaylor', 'Leonardthall', 'mboland', 'chuckntaylor', 'Leonardthall', 'Leonardthall', 'chuckntaylor', 'mboland', 'cookmangr', 'chuckntaylor', 'cookmangr', 'chuckntaylor', 'rohanraut', 'Nautics', 'Neuhausmatheus', 'amilcarlucas'], ['Gregmaan', 'jschall', 'MM-MUC', 'Mustafa_Gokce'], ['sdm-pd', 'ejngnng', 'amilcarlucas', 'ejngnng'], ['lploumen', 'lploumen', 'jschall', 'lploumen', 'jschall', 'lploumen', 'jschall', 'hmsavani', 'dkemxr', 'hmsavani', 'dkemxr', 'hmsavani', 'dkemxr', 'hmsavani', 'dkemxr', 'hmsavani', 'dkemxr', 'hmsavani', 'dkemxr', 'hmsavani', 'dkemxr', 'hmsavani', 'dkemxr'], ['peter750', 'Andre-K', 'peter750', 'Andre-K', 'jschall', 'peter750', 'Dartt-V_Systems_LLC', 'jschall', 'MrNams'], ['jeremylindsell', 'iseries', 'jeremylindsell', 'jeremylindsell', 'jeremylindsell', 'copilot', 'iseries', 'Tim_D', 'copilot', 'mboland', 'camti', 'Karoly_Ludvigh', 'Dan_Jones'], ['mapper905', 'BigTulsa', 'mapper905', 'BigTulsa', 'mapper905', 'BigTulsa', 'mapper905', 'Babak_B.Chehreh'], ['gnitzan', 'mboland', 'LuisVale', 'gnitzan', 'mboland', 'mboland', 'LuisVale', 'gnitzan', 'LuisVale', 'gnitzan', 'gnitzan', 'LuisVale', 'gnitzan', 'NewbyPilot', 'xfacta'], ['Paul_Atkin1', 'JoeBreznai', 'Paul_Atkin1', 'Paul_Atkin1', 'JoeBreznai', 'dkemxr', 'Paul_Atkin1', 'mboland', 'Paul_Atkin1', 'Paul_Atkin1', 'dkemxr', 'Paul_Atkin1', 'dkemxr', 'Paul_Atkin1', 'Paul_Atkin1', 'dkemxr', 'Paul_Atkin1', 'dkemxr', 'Paul_Atkin1', 'Paul_Atkin1', 'dkemxr', 'Paul_Atkin1', 'dkemxr', 'Paul_Atkin1', 'Paul_Atkin1', 'Paul_Atkin1', 'Paul_Atkin1', 'mboland', 'Paul_Atkin1', 'AmitSingh', 'Paul_Atkin1'], ['Trielement', 'jschall', 'Trielement', 'jschall', 'Trielement', 'Blorock', 'markvanhaze', 'Ali_Shreif', 'dkemxr', 'Ali_Shreif'], ['Fi156', 'Leonardthall', 'Fi156', 'Leonardthall', 'Fi156', 'Fi156', 'Leonardthall', 'Fi156', 'skyveyor'], ['Phil007', 'mboland', 'ChrisOlson', 'Phil007', 'ChrisOlson', 'MrNams', 'Phil007', 'MrNams', 'Phil007', 'ZvikaF'], ['EdWilders', 'EdWilders', 'jschall', 'EdWilders', 'jschall', 'EdWilders', 'jschall', 'EdWilders', 'jschall', 'EdWilders', 'Sander', 'unique-no-spaces-sho'], ['dave', 'FireFly', 'MCITYFC', 'jamescooper1', 'MrNams'], ['rimanning', 'rimanning', 'Jagger', 'rimanning', 'Jagger', 'peterbarker', 'rimanning', 'rimanning', 'Jagger', 'rimanning', 'Jagger', 'Clem'], ['Bannanna', 'karanveer.dewan'], ['bpereiradasilva', 'foobarbecue', 'bpereiradasilva', 'Andre-K', 'bpereiradasilva', 'Andre-K', 'kahoona', 'Andre-K', 'jschall', 'kahoona', 'bpereiradasilva', 'gavesh'], ['wat17', 'Flyhard', 'wat17', 'jschall', 'Yasu'], ['rubiksman', 'iseries', 'jtroutt19', 'rubiksman', 'jtroutt19', 'kafzal', 'rubiksman'], ['Gael', 'rocketdann', 'innovation'], ['ljurjevic', 'mlebret', 'ljurjevic', 'mlebret', 'ljurjevic', 'mlebret', 'ljurjevic', 'mlebret', 'ljurjevic', 'mboland', 'ljurjevic', 'ljurjevic', 'mlebret', 'Lawrence_Dennis', 'ljurjevic', 'ljurjevic', 'Lawrence_Dennis', 'ljurjevic', 'ljurjevic', 'mboland', 'ljurjevic', 'mboland', 'ljurjevic', 'yansihua1096', 'mboland'], ['Phreet', 'fnoop', 'yep_zhang', 'yansihua1096'], ['p3pp0', 'dkemxr', 'p3pp0', 'dkemxr', 'Andre-K', 'p3pp0', 'Andre-K', 'p3pp0'], ['Jeff_Shoults', 'BRiskas'], ['wicked1', 'MarcK', 'wicked1'], ['Jax.fpv', 'Eosbandi', 'Eosbandi', 'Andre-K', 'Jax.fpv', 'fnoop', 'Fi156', 'Jax.fpv', 'ogog'], ['arjunk763', 'rmackay9', 'arjunk763', 'rmackay9', 'arjunk763'], ['Christian81', 'mboland', 'Christian81'], ['p3pp0', 'Eosbandi', 'mboland'], ['mike_d', 'rprb'], ['rolyexpress', 'Corrado_Steri'], ['vincent_boideron'], ['Asher', 'Julien', 'Asher', 'aamadeuss', 'rolyexpress'], ['wicked1', 'wicked1', 'wicked1', 'rolyexpress'], ['Rossos', 'Eosbandi', 'Rossos', 'Eosbandi'], ['Prateek_Srivastav', 'BRiskas'], ['blahdc', 'Andre-K', 'blahdc', 'Saijin_Naib', 'Andre-K', 'Pedals2Paddles', 'blahdc', 'Andre-K', 'Pedals2Paddles', 'blahdc', 'blahdc', 'Pedals2Paddles', 'Pedals2Paddles', 'blahdc', 'Pedals2Paddles', 'Andre-K', 'blahdc', 'Pedals2Paddles', 'blahdc', 'Andre-K', 'blahdc', 'Pedals2Paddles'], ['Ozzy'], ['Paul_Atkin1', 'Paul_Atkin1', 'Paul_Atkin1', 'lucamax', 'Paul_Atkin1', 'lucamax', 'Paul_Atkin1', 'lucamax', 'Paul_Atkin1', 'Ozzy'], ['Saijin_Naib', 'Anubis', 'Saijin_Naib'], ['Ipirk', 'mboland', 'Ipirk'], ['hans123', 'mboland', 'hans123', 'mboland', 'ljurjevic', 'mboland', 'ljurjevic'], ['Willa', 'Willa'], ['hans123', 'hans123'], ['Launchpad-McQ'], ['Joao_Marques'], ['wolke', 'TCIII', 'StefanG', 'wolke', 'wolke', 'rmackay9', 'wolke', 'wolke', 'Subodh_Mishra', 'rmackay9'], ['moeid.elahi', 'oldgazer1', 'moeid.elahi'], ['Paul.Me', 'dkemxr', 'Paul.Me', 'mboland', 'tadiwuh'], ['Zacccaria'], ['Mr.1', 'Georacer', 'Mr.1'], ['F100', 'oldgazer1', 'F100', 'F100', 'F100', 'oldgazer1', 'F100', 'F100'], ['phuson', 'peterbarker', 'phuson', 'phuson', 'peterbarker', 'peterbarker', 'phuson', 'phuson', 'peterbarker', 'phuson', 'phuson', 'arjun7965'], ['hans123', 'anon67614380', 'Georacer'], ['Paul_Atkin1', 'Paul_Atkin1', 'Paul_Atkin1', 'Paul_Atkin1'], ['bigvanish', 'dkemxr', 'bigvanish', 'bigvanish', 'dkemxr', 'bigvanish', 'bigvanish', 'dkemxr', 'xfacta', 'bigvanish', 'dkemxr', 'bigvanish', 'dkemxr', 'bigvanish'], ['edwardme', 'K_Trlicek', 'Andre-K', 'Greg_Fletcher', 'edwardme', 'edwardme'], ['Alex_Pilot', 'Alex_Pilot', 'ChrisOlson', 'bnsgeyer', 'ChrisOlson', 'bnsgeyer', 'ChrisOlson', 'ChrisOlson', 'Alex_Pilot'], ['Steve79', 'Andre-K', 'Steve79', 'Steve79', 'CLabeck', 'Steve79', 'Steve79', 'Steve79'], ['Jeremy', 'LuisVale', 'Jeremy', 'LuisVale', 'Jeremy'], ['ILAP1'], ['david.1001101', 'Eosbandi', 'LuisVale', 'david.1001101', 'Fi156'], ['Jeff_Shoults', 'Jeff_Shoults'], ['havi0019', 'havi0019'], ['Joao_Marques', 'Eosbandi', 'Joao_Marques', 'Joao_Marques', 'Eosbandi', 'Eosbandi', 'Joao_Marques', 'Joao_Marques', 'Eosbandi', 'Joao_Marques', 'Eosbandi', 'Joao_Marques', 'Naterater', 'Eosbandi', 'Joao_Marques'], ['thanhlanvuaustralia'], ['jaco'], ['Uygar_kuzuoglu'], ['Paul_Atkin1', 'dkemxr'], ['Jose_Ortiz', 'Anubis', 'Jose_Ortiz', 'Jose_Ortiz', 'Anubis', 'Jose_Ortiz', 'Jose_Ortiz', 'Anubis', 'Jose_Ortiz', 'Jose_Ortiz', 'Jose_Ortiz', 'Jose_Ortiz', 'Jose_Ortiz', 'Anubis', 'Jose_Ortiz', 'Jose_Ortiz', 'Jose_Ortiz', 'Anubis', 'Jose_Ortiz'], ['bcdebusk', 'bcdebusk', 'bcdebusk', 'knightg180', 'bcdebusk', 'CraigElder', 'bcdebusk', 'bcdebusk', 'bcdebusk', 'bcdebusk', 'bcdebusk', 'bcdebusk', 'knightg180', 'bcdebusk', 'jschall', 'bcdebusk', 'jschall', 'gsohler', 'Doug_Gibbons'], ['Sarge001', 'aamadeuss', 'Sarge001', 'Eosbandi', 'Sarge001', 'aamadeuss', 'Sarge001'], ['thomasj1984', 'fnoop', 'fnoop', 'thomasj1984', 'mboland', 'thomasj1984', 'mboland', 'thomasj1984', 'mboland', 'fnoop', 'Jagger', 'thomasj1984', 'mboland', 'thomasj1984'], ['Matt_UAV-America'], ['Nathaniel_McMahon', 'ehsan'], ['lordneeko', 'BigTulsa', 'lordneeko', 'Andre-K'], ['Alex77', 'skyhook', 'Alex77'], ['xfacta', 'JoeBreznai', 'xfacta'], ['Jagger'], ['Mogway28', 'Mogway28', 'mboland', 'Mogway28', 'lucamax'], ['canard4', 'ehsan', 'canard4', 'ehsan', 'canard4', 'ehsan', 'canard4', 'cala2'], ['VDLJu', 'VDLJu', 'dkemxr', 'VDLJu', 'Anubis'], ['lordneeko'], ['Flaneur', 'edge540T', 'lucamax'], ['r1ku', 'lordneeko', 'r1ku', 'lordneeko', 'r1ku', 'Jagger', 'rrr6399', 'r1ku', 'lordneeko', 'rrr6399', 'Chinese66', 'r1ku', 'r1ku', 'Chinese66', 'lordneeko', 'r1ku', 'r1ku', 'Chinese66', 'rrr6399', 'r1ku', 'rrr6399'], ['lordneeko', 'Andre-K', 'lordneeko'], ['copterart', 'copterart', 'copterart', 'mboland', 'copterart', 'mboland', 'copterart'], ['Ertu_Kocak', 'ambattuhari', 'Ertu_Kocak', 'Ertu_Kocak', 'mboland', 'Ertu_Kocak', 'Ertu_Kocak', 'mboland', 'Ertu_Kocak', 'Guido1'], ['michal319'], ['Nathaniel_McMahon', 'mboland', 'lucamax', 'Nathaniel_McMahon', 'Nathaniel_McMahon', 'mboland', 'Nathaniel_McMahon', 'Nathaniel_McMahon', 'mboland', 'Nathaniel_McMahon', 'Anubis', 'Nathaniel_McMahon'], ['uavdlsu'], ['jprouty', 'mboland', 'iseries', 'jprouty', 'Eddie-Davis'], ['vertigotech', 'Pedals2Paddles', 'Eosbandi', 'FlyingPotatoes', 'Andre-K', 'vertigotech', 'vertigotech', 'ChrisOlson', 'FlyingPotatoes', 'ChrisOlson'], ['xfacta', 'xfacta', 'xfacta', 'Jagger', 'xfacta', 'Jagger', 'xfacta', 'xfacta', 'xfacta', 'xfacta', 'xfacta', 'xfacta', 'xfacta', 'xfacta', 'rmackay9', 'WickedShell', 'xfacta', 'rmackay9', 'xfacta', 'xfacta', 'xfacta', 'xfacta', 'xfacta', 'xfacta'], ['Braxton'], ['swein', 'hunt0r', 'JoeBreznai', 'mboland', 'swein', 'swein', 'hunt0r', 'mboland', 'swein', 'mboland', 'swein', 'swein'], ['Bog_Dan', 'Andre-K', 'Bog_Dan', 'Andre-K', 'Jagger'], ['Nathaniel_McMahon', 'Nathaniel_McMahon', 'wildseyed', 'Nathaniel_McMahon'], ['eddiex'], ['imrj', 'ehsan'], ['vishalahuja', 'ehsan', 'vishalahuja', 'mlebret', 'ehsan', 'vishalahuja', 'ehsan'], ['Emanuele_Della_Volpe', 'peterbarker', 'Emanuele_Della_Volpe', 'peterbarker', 'Emanuele_Della_Volpe'], ['223Wylde', '223Wylde', 'f4ichuck', '223Wylde', 'f4ichuck', '223Wylde', 'james_pattison', '223Wylde', 'ChrisOlson', 'ChrisOlson', '223Wylde', 'ChrisOlson', 'ChrisOlson', '223Wylde', 'ChrisOlson'], ['Mike_Dergance', 'Jagger', 'Mike_Dergance', 'ultrafuge', 'Jagger'], ['mapircamera', 'Pedals2Paddles', 'mapircamera'], ['Andreas_Krauchi'], ['Richard_M', 'jschall', 'sarojj7'], ['Ib_Rene_Cario', 'ChiangKaishek', 'Jagger', 'Ib_Rene_Cario', 'Jagger', 'Ib_Rene_Cario', 'Jagger'], ['WILLIAM', 'mboland', 'WILLIAM', 'WILLIAM'], ['liang-tang', 'liang-tang', 'mboland', 'Andre-K', 'freezer', 'Andre-K', 'freezer'], ['PittRBM', 'Sagaris'], ['o_zoeller', 'mboland'], ['Benson_Migwi', 'mboland', 'Benson_Migwi', 'mboland', 'Benson_Migwi', 'mboland', 'Benson_Migwi', 'lucamax', 'Benson_Migwi'], ['quad'], ['soul4u', 'anuchit_darat', 'soul4u', 'soul4u', 'soul4u', 'LuisVale', 'soul4u', 'soul4u', 'ehsan', 'ehsan'], ['luSengir', 'Javiercerna', 'luSengir', 'Javiercerna', 'luSengir'], ['laurent_Bimont', 'Andre-K', 'laurent_Bimont'], ['Chris_Hardwick', 'mboland', 'Chris_Hardwick', 'Chris_Hardwick', 'mboland', 'Chris_Hardwick', 'CLabeck', 'Chris_Hardwick', 'Chris_Hardwick', 'Chris_Hardwick', 'Chris_Hardwick', 'CLabeck', 'Chris_Hardwick', 'Chris_Hardwick', 'CLabeck', 'Chris_Hardwick'], ['PhantomRaider'], ['Andrea_Sebastiani'], ['JasonS', 'peterbarker', 'JasonS', 'Andre-K', 'CLabeck'], ['o_zoeller', 'mboland', 'o_zoeller', 'o_zoeller'], ['sam7flash', 'jmack', 'CLabeck', 'sam7flash', 'sam7flash', 'sam7flash'], ['Andre-K'], ['garceso', 'George_Muirhead', 'garceso'], ['dolphik', 'dolphik', 'dolphik'], ['alpa2009'], ['azrael_sk', 'jschall', 'azrael_sk', 'jschall', 'azrael_sk', 'jschall', 'Gregmaan', 'jschall', 'Gregmaan', 'azrael_sk', 'batoys'], ['alpa2009', 'ajghor', 'alpa2009', 'ajghor', 'mboland', 'alpa2009', 'haydar', 'George_Muirhead', 'alpa2009'], ['wadesherman', 'iseries', 'ehsan', 'wadesherman'], ['jtroutt19', 'jtroutt19'], ['Mike1', 'mboland', 'Mike1', 'mboland', 'Mike1', 'Mike1'], ['ist165351', 'LuisVale', 'ist165351', 'ist165351', 'LuisVale', 'FlyingPenguin'], ['Mike1', 'peterbarker', 'Mike1', 'peterbarker', 'Mike1'], ['guernegor', 'xh-007', 'guernegor', 'xh-007', 'xh-007', 'guernegor'], ['ardisd', 'iseries', 'ardisd', 'iseries'], ['arenei'], ['Eric_Dong'], ['lucamax', 'lucamax', 'Jagger', 'lucamax', 'Jagger'], ['PittRBM'], ['Diego_Diaz', 'OXINARF', 'Diego_Diaz', 'OXINARF', 'Diego_Diaz'], ['hairyape176', 'hairyape176', 'iseries', 'mboland'], ['nathanms', 'mboland', 'nathanms', 'mboland'], ['piwko4', 'StefanG', 'viperz28', 'viti.io', 'Hein_Du_Plessis'], ['mtkelemen', 'mboland', 'Levan_Gugulashvili'], ['Diego_Diaz'], ['111112'], ['Bourmatt', 'George_Muirhead', 'gsimon2', 'Colin_M', 'gsimon2', 'Bourmatt'], ['kuspower', 'kuspower', 'priseborough', 'kuspower', 'priseborough'], ['Z9G6'], ['fnoop', 'fnoop'], ['aamadeuss', 'peterbarker', 'aamadeuss', 'cala2', 'aamadeuss'], ['Chopping', 'JoeBreznai', 'Chopping'], ['jtroutt19', 'jtroutt19'], ['piousgreek'], ['havi0019', 'havi0019', 'peterbarker'], ['Gunaveh', 'Gunaveh'], ['bitbanger'], ['autopiloton', 'peterbarker', 'autopiloton', 'autopiloton'], ['Keshka_Kotera', 'khadu09', 'Keshka_Kotera', 'Keshka_Kotera', 'skyscraper', 'Keshka_Kotera', 'skyscraper'], ['Thonon'], ['OAPpilot', 'OAPpilot', 'mboland', 'OAPpilot', 'OAPpilot'], ['mpircher', 'pmshop', 'mpircher', 'pmshop', 'pmshop', 'mpircher', 'Emin_Bu', 'mpircher'], ['xflyer'], ['Inabnit', 'iseries', 'Inabnit', 'iseries', 'Inabnit', 'mfzavareh', 'mboland', 'mfzavareh', 'iseries'], ['droneonly'], ['mpircher', 'AlexL'], ['Tommy_G', 'Georges41', 'futlus', 'Georges41', 'futlus', 'Georges41', 'futlus', 'Georges41'], ['coni99', 'mboland', 'coni99', 'Thorsten', 'mboland'], ['Pu5cgv'], ['ist165351', 'peterbarker', 'ist165351', 'peterbarker'], ['ist165351'], ['mboland', 'peterbarker'], ['Viramedia', 'lucamax', 'tabascoz', 'hsteinhaus', 'tabascoz'], ['seanch123', 'mboland', 'seanch123', 'mboland', 'seanch123', 'pmshop'], ['FPV_Pilot', 'LuisVale', 'FPV_Pilot', 'LuisVale'], ['jaydrone', 'netphreak', 'jaydrone', 'netphreak'], ['Matty', 'billb', 'Matty', 'billb'], ['Du_Lac', 'MarkM', 'Du_Lac', 'MarkM', 'Du_Lac', 'MarkM', 'Du_Lac', 'MarkM', 'Du_Lac', 'MarkM', 'Du_Lac'], ['jonnymoonshine'], ['11114'], ['Alexis_Frerejean', 'rmackay9', 'rmackay9'], ['Eddi_Maevski'], ['X1Aero', 'Linus', 'X1Aero'], ['Matt_UAV-America', 'Linus'], ['leking2', 'LuisVale', 'leking2'], ['Stephon', 'mboland', 'Stephon', 'mboland', 'Stephon'], ['akimata'], ['kahoona', 'Thorsten', 'kahoona'], ['fnoop', 'fnoop', 'fnoop', 'fnoop', 'fnoop', 'dk7xe.g', 'dk7xe.g'], ['timvand', 'timvand', 'timvand'], ['micha3l19', 'iseries', 'micha3l19'], ['AndersonRayner', 'peterbarker', 'AndersonRayner', 'peterbarker', 'AndersonRayner', 'peterbarker'], ['tschiber79', 'peterbarker', 'tschiber79', 'peterbarker', 'tschiber79'], ['Totalslaughter'], ['Tom_Gear', 'Tom_Gear', 'Tom_Gear'], ['erickfear'], ['mboland', 'wkf94025', 'iseries', 'DavidBuzz', 'mboland'], ['Vusal_Jalilov', 'Vusal_Jalilov', 'mboland', 'Vusal_Jalilov', 'mboland', 'Vusal_Jalilov', 'iseries', 'DavidBuzz'], ['netptl39', 'netptl39'], ['Blade'], ['Vusal_Jalilov', 'iseries', 'Vusal_Jalilov'], ['Vusal_Jalilov', 'BigTulsa', 'iseries', 'BigTulsa', 'Vusal_Jalilov', 'Vusal_Jalilov', 'iseries', 'BigTulsa', 'Vusal_Jalilov', 'Vusal_Jalilov', 'iseries', 'Vusal_Jalilov'], ['xnorbi', 'BigTulsa'], ['virgodave61'], ['jacksonkr', 'Graham_Dyer', 'jacksonkr', 'jacksonkr', 'MarkM'], ['alireza_m'], ['Juli112', 'jmillwood'], ['Kwarf'], ['doritos', 'kafteji', 'xanacopter', 'doritos', 'ZvikaF', 'ZvikaF', 'X1Aero', 'carbonfly', 'Crono1124', 'X1Aero', 'kevinvane', 'rkurdadze', 'X1Aero', 'cookmangr'], ['BIG_BIRD'], ['Hutch'], ['Angel', 'Angel'], ['mrpreciado', 'iseries', 'mrpreciado', 'iseries', 'LuisVale'], ['Jonathan_Droemer', 'fnoop', 'Jonathan_Droemer', 'fnoop', 'Jonathan_Droemer'], ['danstah', 'danstah', 'jmillwood'], ['Juli112', 'Juli112', 'fnoop'], ['jpkh', 'jpkh'], ['mboland', 'ninjamonkey', 'BigTulsa', 'mboland', 'Leonardthall', 'mboland'], ['gernotwe', 'Gary_Mortimer', 'gernotwe'], ['virgodave61', 'virgodave61'], ['mangogo', 'MarkM', 'Andre-K'], ['sonorris', 'Andre-K', 'sonorris'], ['ninjamonkey', 'Andre-K'], ['bisenberger'], ['Striker98', 'Striker98', 'Striker98'], ['sam_mh', 'sam_mh'], ['Robby74', 'TCIII', 'MarkM', 'Robby74', 'Robby74', 'Robby74', 'Robby74', 'Robby74', 'Robby74', 'Robby74'], ['gernotwe'], ['Fireycold', 'billb', 'Fireycold'], ['alireza_m'], ['hjforo', 'hjforo'], ['OAPpilot'], ['paul0', 'paul0', 'outlawzz', 'paul0', 'outlawzz', 'paul0', 'outlawzz', 'outlawzz', 'paul0'], ['ComDoc', 'TCIII', 'ComDoc', 'TCIII', 'ComDoc', 'ComDoc', 'ComDoc', 'MarkM', 'TCIII', 'ComDoc', 'MarkM', 'ComDoc', 'ComDoc'], ['lsm0828', 'lsm0828', 'TCIII', 'lsm0828', 'TCIII', 'lsm0828', 'captain_buzz'], ['santiago_33'], ['foshuo1987'], ['Blade77', 'Blade77', 'MarkM'], ['paul0', 'paul0'], ['LeonD', 'LeonD'], ['sokoloko', 'sokoloko'], ['Paul-80', 'TCIII', 'Paul-80', 'TCIII'], ['merlin', 'TCIII'], ['Regelink', 'Regelink'], ['FlyingCactus', 'FlyingCactus', 'FlyingCactus'], ['AerotestraRick', 'TCIII', 'MarkM', 'AerotestraRick'], ['eukaryote', 'eukaryote'], ['Matt_UAV-America', 'tractable'], ['denyer00', 'darius'], ['FlyingCactus', 'Graham_Dyer', 'FlyingCactus'], ['Sjuriyan'], ['Striker98', 'Striker98'], ['supercurare', 'TCIII'], ['asaad_civic99'], ['Fredric_S', 'TCIII', 'Fredric_S'], ['hfai2016', 'hfai2016'], ['silverburn', 'Andre-K'], ['JohanRC', 'Andre-K', 'JohanRC', 'Andre-K'], ['foobarbecue', 'foobarbecue', 'servoman1', 'foobarbecue'], ['andrey', 'TCIII', 'andrey', 'BIG_BIRD'], ['g_gregory', 'tractable'], ['pathios', 'pathios', 'pathios'], ['tractable', 'MarkM', 'tractable'], ['RCPilotSki', 'Andre-K', 'RCPilotSki', 'Andre-K'], ['ravrav'], ['muzz11', 'TCIII', 'muzz11', 'TCIII', 'muzz11'], ['BIG_BIRD'], ['robbstech', 'iseries'], ['NikiQuad', 'Matt_UAV-America', 'MarkM', 'BigTulsa'], ['jeremylindsell', 'jeremylindsell'], ['BelleHumble', 'RabbitStu', 'BelleHumble', 'RabbitStu', 'BelleHumble', 'RabbitStu', 'BelleHumble', 'RabbitStu', 'Georges41', 'Georges41'], ['Divide_Overflow', 'Divide_Overflow'], ['Mad_angler1', 'TCIII', 'Mad_angler1'], ['Windmill', 'chetan0412'], ['dms_340'], ['AlexTakt', 'AlexTakt', 'nassoro'], ['Ben_Lee', 'TCIII', 'Ben_Lee', 'OtherHand', 'MarkM', 'Ben_Lee'], ['mapper905', 'mapper905', 'mapper905', 'mapper905'], ['SkySoilder173rd'], ['rkurdadze'], ['saark', 'saark'], ['34South', 'OtherHand', '34South'], ['Regex', 'MarkM', 'lostcontrol', 'Regex', 'MarkM', 'lostcontrol', 'Regex', 'Regex'], ['JohnHennesey', 'JohnHennesey'], ['browarki', 'TCIII', 'browarki', 'browarki'], ['lostcontrol', 'Leonardthall', 'Leonardthall', 'lostcontrol', 'lostcontrol', 'lostcontrol', 'lostcontrol'], ['jairbj'], ['entomophile', 'MarkM', 'entomophile'], ['mapper905'], ['Yurik'], ['Mad_angler1'], ['cstallings'], ['QUADOCTO', 'BigTulsa', 'QUADOCTO', 'QUADOCTO', 'QUADOCTO', 'billb', 'QUADOCTO'], ['Flyhard', 'Flyhard', 'Flyhard'], ['darkdrgn2k', 'darkdrgn2k', 'darkdrgn2k', 'darkdrgn2k'], ['Boxerone', 'Boxerone', 'matt_w', 'matt_w', 'Boxerone', 'matt_w', 'Boxerone'], ['Tony_86', 'Flyhard', 'Tony_86', 'Flyhard'], ['Graham_Dyer', 'billb'], ['silvermanphoto', 'billb'], ['mapper905', 'zlite', 'mapper905', 'Boxerone', 'mapper905'], ['Zanoroy', 'Zanoroy', 'Zanoroy'], ['stewart', 'OtherHand', 'chetan0412', 'stewart', 'stewart', 'OtherHand', 'stewart', 'stewart', 'stewart', 'chetan0412'], ['pzig98'], ['CptJames32', 'CptJames32', 'TCIII', 'OtherHand', 'CptJames32', 'OtherHand'], ['chetan0412', 'Flyhard', 'chetan0412', 'Flyhard', 'chetan0412', 'Flyhard', 'chetan0412', 'Flyhard', 'chetan0412', 'Flyhard'], ['swagFault', 'BigTulsa', 'swagFault', 'swagFault', 'BigTulsa', 'swagFault', 'BigTulsa'], ['ben74x'], ['bongiorno', 'cala2', 'bongiorno', 'cala2'], ['federico86', 'SillyLittleBoy', 'federico86'], ['Boxerone', 'rmackay9', 'Boxerone'], ['Jimmypooh', 'Jimmypooh', 'BigTulsa'], ['davedave', 'BigTulsa'], ['nuggetz'], ['oneswithfunes', 'execcr'], ['plusmartin', 'execcr'], ['SkySoilder173rd', 'TCIII', 'SkySoilder173rd', 'SkySoilder173rd', 'SkySoilder173rd'], ['rchelicopter67'], ['airdvark'], ['j3systems'], ['BuBu1', 'BuBu1'], ['ardvaark'], ['nwford', 'TCIII', 'nwford', 'TCIII', 'nwford', 'Graham_Dyer', 'nwford'], ['jociz'], ['BigTulsa', 'BigTulsa', 'OtherHand', 'OtherHand', 'cootertwo', 'BigTulsa'], ['lionelrik', 'lionelrik', 'lionelrik', 'billb'], ['shaiko'], ['beau0090_99'], ['jociz', 'TCIII', 'jociz', 'jociz', 'jociz', 'outlawzz', 'jociz', 'jociz', 'outlawzz', 'jociz', 'jociz', 'jociz'], ['gecko242'], ['BTBlueSkies', 'jociz', 'MarkM'], ['Ammad_Ali', 'BigTulsa', 'Ammad_Ali', 'MarkM', 'Ammad_Ali', 'TCIII', 'Ammad_Ali', 'MarkM', 'Ammad_Ali', 'billb', 'Ammad_Ali'], ['Anna1980'], ['ipaq3115', 'ipaq3115', 'outlawzz'], ['gabejc', 'billb'], ['RyanBRZ'], ['lexall'], ['somci', 'TCIII', 'somci', 'TCIII', 'somci', 'somci', 'somci'], ['azarath', 'TCIII', 'Jason_Hill'], ['mtndewdewd', 'mtndewdewd', 'iseries', 'mtndewdewd', 'mtndewdewd', 'mtndewdewd', 'mtndewdewd'], ['mactadpole', 'mactadpole', 'mactadpole'], ['drama'], ['servoman1', 'servoman1'], ['egarim'], ['johnson', 'johnson'], ['seiern', 'seiern'], ['unicornmafia', 'whittonm', 'Gary_Mortimer', 'TCIII', 'unicornmafia', 'whittonm', 'cootertwo', 'unicornmafia'], ['sevet', 'raphh', 'sevet', 'raphh', 'sevet', 'raphh', 'raphh', 'sevet', 'jschall', 'sevet', 'sevet', 'Tsayta7722'], ['playlet', 'jacekowski', 'cala2', 'playlet', 'playlet'], ['pikpik', 'Andre-K'], ['RaiderCIO', 'Gary_Mortimer', 'AndyL33', 'RaiderCIO', 'AndyL33', 'RaiderCIO', 'AndyL33', 'Arduwef', 'squeal0'], ['MickeM', 'Rob_Lefebvre', 'MickeM', 'RabbitStu', 'MickeM', 'MickeM', 'MickeM', 'MarkM', 'MickeM', 'RabbitStu', 'RabbitStu', 'MickeM', 'RabbitStu', 'MickeM'], ['crayfellow', 'crayfellow', 'OtherHand', 'crayfellow', 'OtherHand', 'crayfellow', 'OtherHand', 'crayfellow', 'OtherHand'], ['jacekowski', 'ntkrell'], ['WesJ77', 'TCIII', 'WesJ77', 'WesJ77'], ['Doofenshmirtz', 'Doofenshmirtz'], ['mactadpole', 'mactadpole', 'cootertwo', 'mactadpole', 'MarkM', 'mactadpole', 'mactadpole'], ['jjjvr', 'jjjvr', 'jjjvr', 'MarkM', 'jjjvr'], ['samworthington', 'GlassKnees', 'samworthington'], ['Fadawar', 'Rejean'], ['jcarrig', 'jcarrig', 'jcarrig', 'wr420', 'jcarrig'], ['jmorken', 'samworthington', 'jmorken'], ['enderffx', 'enderffx', 'vaneck'], ['dpackham', 'dpackham'], ['wr420', 'MarkM', 'iseries', 'wr420', 'wr420', 'iseries', 'wr420', 'iseries', 'wr420', 'iseries'], ['jgrcon', 'MarkM', 'StefanG'], ['WRXJIM', 'cala2', 'WRXJIM', 'OtherHand', 'WRXJIM', 'cala2'], ['jeremylindsell', 'MarkM'], ['argos44', 'StefanG', 'argos44'], ['supersegundo'], ['Thorsten', 'Rob_Lefebvre', 'Thorsten', 'Thorsten', 'Thorsten', 'Thorsten'], ['Carlcox89'], ['ovolkmann'], ['fishy'], ['wsalopek', 'cootertwo', 'daveloves', 'cootertwo', 'ottoherrero'], ['gx_feyu', 'MarkM', 'gx_feyu'], ['songstudio'], ['kf6bbl'], ['silby1383'], ['coni99', 'cbrk1'], ['Justin_H', 'Justin_H', 'Justin_H'], ['Rejean'], ['alardt', 'alardt'], ['haerta'], ['TheColonel', 'iseries', 'StefanG', 'TheColonel', 'TheColonel'], ['servoman1', 'iseries', 'servoman1', 'servoman1'], ['Totpunkt'], ['servoman1', 'iseries', 'servoman1', 'RabbitStu', 'servoman1'], ['batzkass', 'andypiper'], ['JJ6000', 'RabbitStu', 'JJ6000', 'RabbitStu'], ['jjjvr', 'jjjvr', 'TheColonel', 'jjjvr', 'TheColonel'], ['runnaway21'], ['X1Aero'], ['X1Aero', 'idleup', 'X1Aero', 'RabbitStu', 'X1Aero', 'RabbitStu', 'X1Aero', 'RabbitStu', 'nisouck'], ['kelly', 'iseries', 'kelly'], ['jawood'], ['chasm', 'iseries', 'cuthbertnibbles'], ['cuthbertnibbles'], ['wsalopek', 'meee1', 'wsalopek', 'wsalopek', 'cootertwo', 'wsalopek'], ['Jerome'], ['Rejean', 'RabbitStu', 'Rejean', 'Rejean', 'Rejean'], ['ulferlingsson', 'ulferlingsson', 'ulferlingsson'], ['rebelboy', 'MarkM'], ['kikdiweg', 'TCIII'], ['Dave_Wave', 'Dave_Wave', 'RabbitStu', 'Dave_Wave'], ['basbura', 'iseries', 'basbura', 'basbura'], ['X1Aero', 'X1Aero', 'X1Aero', 'X1Aero', 'iseries', 'X1Aero', 'RabbitStu'], ['fredndee', 'fredndee'], ['airfix4'], ['zbabic'], ['X1Aero', 'X1Aero'], ['GunJam'], ['airfix4', 'TCIII', 'airfix4', 'TCIII', 'airfix4', 'MarkM', 'airfix4', 'airfix4', 'MarkM', 'airfix4'], ['davidars', 'cbrk1'], ['DarkDot', 'TCIII', 'DarkDot', 'TCIII', 'DarkDot', 'DarkDot', 'DarkDot'], ['Baqsthc', 'RabbitStu', 'Baqsthc', 'Baqsthc', 'RabbitStu', 'Baqsthc', 'RabbitStu', 'RabbitStu', 'Baqsthc', 'Baqsthc', 'RabbitStu', 'Baqsthc', 'RabbitStu', 'Baqsthc', 'Baqsthc'], ['roycruse', 'iseries', 'RabbitStu', 'roycruse', 'roycruse', 'RabbitStu', 'roycruse', 'RabbitStu', 'roycruse', 'RabbitStu', 'roycruse', 'roycruse', 'RabbitStu', 'roycruse', 'roycruse', 'roycruse', 'RabbitStu', 'roycruse', 'Dj_Garfield', 'roycruse', 'Dj_Garfield', 'macoces', 'iseries', 'Dj_Garfield', 'Dj_Garfield', 'macoces', 'Dj_Garfield', 'Dj_Garfield'], ['blaizefed', 'TCIII', 'blaizefed', 'blaizefed', 'blaizefed'], ['Bexcopter', 'FullScalePilot2', 'RabbitStu', 'Bexcopter', 'OtherHand', 'Bexcopter', 'RabbitStu', 'Bexcopter', 'lftate508'], ['darkdrgn2k'], ['Esteve', 'Esteve'], ['gibbedy', 'RabbitStu', 'gibbedy', 'gibbedy', 'gibbedy', 'gibbedy', 'gibbedy', 'Andre-K', 'gibbedy', 'Andre-K', 'gibbedy', 'gibbedy', 'gibbedy'], ['Oli71', 'TCIII', 'Oli71'], ['Pghsteel36', 'captmark', 'RabbitStu'], ['mihatsu', 'mihatsu'], ['elieseid'], ['dbaldwin', 'billb', 'dbaldwin'], ['Tony_G', 'TCIII'], ['kw1162', 'RabbitStu', 'kw1162', 'RabbitStu', 'kw1162', 'kw1162', 'RabbitStu', 'cootertwo', 'kw1162'], ['killer'], ['ericgoh'], ['MikeReedKS', 'MikeReedKS'], ['CoreyScogin'], ['jamesh', 'RabbitStu'], ['elektron', 'elektron', 'elektron'], ['Supra'], ['LBC970', 'iseries', 'LBC970', 'LBC970'], ['zniter81', 'Flyhard', 'zniter81', 'Flyhard', 'zniter81'], ['zniter81', 'RabbitStu', 'zniter81', 'RabbitStu', 'zniter81', 'RabbitStu', 'zniter81'], ['Digital_Fly'], ['martijn', 'RabbitStu', 'martijn'], ['jacef8', 'TCIII', 'jacef8', 'RabbitStu'], ['chapman', 'lostcontrol'], ['roycruse', 'FullScalePilot2', 'roycruse', 'roycruse', 'macoces', 'matrixFLYER'], ['LoriuQ', 'Rob_Lefebvre', 'AndyL33', 'Rob_Lefebvre', 'LoriuQ'], ['NickZhang', 'matrixFLYER'], ['eyesonsky', 'eyesonsky'], ['grofcro', 'kafteji', 'NickZhang'], ['matrixFLYER'], ['xanacopter', 'kafteji', 'xanacopter', 'RabbitStu'], ['Ben_Willistein', 'TCIII', 'gabejc', 'RabbitStu'], ['brianwhite', 'TCIII', 'brianwhite', 'RabbitStu'], ['Flight51', 'kafteji', 'Flight51', 'Flight51'], ['silby1383', 'TCIII', 'silby1383', 'RabbitStu', 'RabbitStu', 'FullScalePilot2', 'silby1383', 'iseries', 'xanacopter', 'silby1383'], ['catchers', 'catchers', 'FullScalePilot2', 'catchers', 'catchers', 'kafteji', 'catchers', 'kafteji', 'catchers', 'kafteji', 'yomamma7'], ['walkstx'], ['tehfreak'], ['Francis', 'FullScalePilot2'], ['frivas', 'TCIII', 'hotelzululima', 'frivas', 'jschall', 'frivas', 'jschall', 'Felipe_Calixto'], ['Yazen_Alali', 'TCIII', 'Yazen_Alali', 'kafteji', 'Yazen_Alali'], ['xanacopter', 'Bill_English', 'xanacopter', 'Bill_English', 'xanacopter'], ['PatrikC', 'RabbitStu', 'PatrikC', 'RabbitStu', 'billb', 'OtherHand', 'PatrikC', 'OtherHand'], ['gabejc', 'iseries', 'gabejc'], ['aeonstar', 'RabbitStu', 'aeonstar', 'aeonstar', 'RabbitStu'], ['WoutvdBerg', 'kafteji', 'WoutvdBerg'], ['Carlos', 'kafteji', 'iseries', 'Carlos', 'kafteji', 'Carlos', 'iseries', 'Carlos', 'iseries'], ['raphh', 'kafteji', 'raphh', 'raphh', 'raphh', 'kafteji', 'raphh', 'kafteji', 'raphh', 'kafteji', 'RabbitStu', 'kafteji', 'RabbitStu'], ['mtkelemen', 'kafteji', 'iseries', 'mtkelemen', 'kafteji'], ['tehfreak', 'TCIII', 'tehfreak', 'Bill_English', 'tehfreak', 'tehfreak', 'RabbitStu', 'Bill_English'], ['mstibor', 'TCIII', 'mstibor', 'TCIII', 'Bill_English', 'mstibor', 'Bill_English', 'mstibor'], ['mnolea', 'iseries', 'MarkM', 'mnolea', 'iseries', 'mnolea', 'iseries'], ['ant1298', 'OtherHand', 'ant1298', 'OtherHand', 'ant1298', 'OtherHand', 'ant1298', 'ant1298', 'OtherHand', 'ant1298', 'ant1298', 'OtherHand', 'ant1298', 'OtherHand', 'ant1298', 'OtherHand', 'ant1298', 'ant1298', 'ant1298', 'ant1298', 'ant1298', 'OtherHand', 'ant1298', 'ant1298', 'OtherHand'], ['X1Aero', 'kafteji', 'X1Aero', 'kafteji', 'X1Aero'], ['LoKKeR', 'TCIII'], ['joebar65', 'iseries', 'joebar65', 'iseries'], ['mikiuse', 'RabbitStu'], ['PatrikC', 'kafteji', 'PatrikC'], ['radionick', 'radionick', 'RabbitStu'], ['Chicony', 'iseries', 'Chicony'], ['jamblor', 'jamblor', 'TCIII', 'OtherHand'], ['stefano1300', 'stefano1300', 'iseries', 'stefano1300', 'iseries'], ['vahid_tavakol', 'playfieldofangels7', 'MarkM'], ['mateuszwdowiak', 'mateuszwdowiak'], ['mopar250', 'bchristal', 'mopar250'], ['jamdallen', 'RabbitStu', 'MarkM', 'jamdallen', 'eyesonsky', 'jamdallen'], ['_Nik', '_Nik'], ['jareds', 'FullScalePilot2', 'RabbitStu', 'jareds', 'jareds'], ['Noddy', 'RabbitStu', 'Noddy', 'RabbitStu', 'Noddy', 'RabbitStu'], ['Kooltone', 'iseries', 'Kooltone', 'Kooltone', 'TCIII', 'Kooltone', 'Kooltone', 'slimething'], ['govsux', 'slimething', 'govsux', 'nikiforospav', 'govsux', 'devveldogg', 'hernborc', 'slimething'], ['mbardeen', 'RabbitStu', 'mbardeen', 'RabbitStu', 'mbardeen'], ['Tsayta7722', 'RabbitStu'], ['Zergee', 'RabbitStu', 'Zergee', 'iseries', 'Zergee', 'RabbitStu', 'Zergee', 'RabbitStu', 'Zergee', 'RabbitStu', 'Zergee', 'RabbitStu', 'Zergee'], ['Tuck3rz', 'RabbitStu', 'Tuck3rz', 'RabbitStu', 'Tuck3rz', 'RabbitStu', 'Tuck3rz', 'Tuck3rz', 'RabbitStu', 'Tuck3rz', 'RabbitStu', 'Tuck3rz', 'RabbitStu', 'Tuck3rz', 'Tuck3rz'], ['LTMNO', 'LTMNO', 'jschall', 'LTMNO', 'ronhogwarts', 'LTMNO', 'ronhogwarts', 'LTMNO'], ['FullScalePilot2', 'RabbitStu', 'FullScalePilot2', 'RabbitStu', 'FullScalePilot2', 'RabbitStu', 'FullScalePilot2'], ['DaOne', 'RabbitStu', 'DaOne', 'RabbitStu', 'FullScalePilot2'], ['nitay', 'Rob_Lefebvre', 'plusmartin'], ['RabbitStu', 'billb', 'RabbitStu'], ['FlightLevel', 'FlightLevel'], ['houldsworth1', 'RabbitStu'], ['multirotorscotland', 'RabbitStu'], ['bencopter', 'Matt_UAV-America'], ['nierui', 'nierui', 'rustutzman', 'RabbitStu', 'nierui', 'nierui', 'nierui', 'nierui', 'nierui', 'nierui', 'nierui', 'RabbitStu'], ['govsux', 'govsux'], ['antkon', 'antkon', 'RabbitStu'], ['Benflyfish', 'jschall', 'Benflyfish', 'jschall', 'unipres', 'Benflyfish', 'Benflyfish', 'craignicholls', 'Benflyfish', 'RabbitStu', 'Benflyfish', 'RabbitStu', 'craignicholls', 'craignicholls', 'Rob_Lefebvre', 'craignicholls'], ['lioon', 'lioon', 'RabbitStu', 'lioon'], ['mooreao', 'RabbitStu'], ['black_coder', 'RabbitStu', 'black_coder', 'RabbitStu', 'RabbitStu'], ['DaOne', 'DaOne', 'DaOne', 'RabbitStu'], ['Flenders', 'Flenders', 'RabbitStu'], ['govsux', 'govsux', 'RabbitStu', 'govsux', 'govsux', 'RabbitStu'], ['sanchez8k', 'MarkM', 'sanchez8k', 'sanchez8k', 'RabbitStu', 'sanchez8k', 'MarkM', 'sanchez8k'], ['aaronsmith40', 'govsux', 'govsux', 'RabbitStu', 'aaronsmith40'], ['iskess', 'iskess', 'iskess', 'RabbitStu', 'Rob_Lefebvre', 'iskess', 'iskess', 'iskess'], ['DaOne', 'RabbitStu', 'RabbitStu', 'DaOne', 'RabbitStu', 'DaOne', 'RabbitStu', 'RabbitStu', 'DaOne', 'RabbitStu', 'DaOne'], ['Hemi1986', 'RabbitStu', 'Hemi1986', 'Hemi1986', 'RabbitStu', 'Hemi1986', 'RabbitStu', 'Hemi1986', 'RabbitStu', 'Hemi1986', 'RabbitStu', 'Rob_Lefebvre', 'Hemi1986', 'RabbitStu'], ['mrbill', 'Nathaniel_Caner', 'TCIII', 'Nathaniel_Caner'], ['jakethesnake98', 'Rob_Lefebvre', 'jakethesnake98', 'Rob_Lefebvre'], ['byronyap', 'RabbitStu', 'byronyap', 'byronyap', 'RabbitStu'], ['cyclicfever', 'iseries', 'cyclicfever', 'cyclicfever', 'cyclicfever', 'cyclicfever', 'cyclicfever'], ['RabbitStu', 'MarkM', 'RabbitStu'], ['planesight', 'RabbitStu', 'Rob_Lefebvre', 'planesight'], ['LoKKeR', 'Rob_Lefebvre', 'LoKKeR', 'TCIII'], ['gtisimon', 'Matt_UAV-America', 'gtisimon', 'Rob_Lefebvre'], ['PeeBee', 'RabbitStu', 'PeeBee', 'RabbitStu', 'PeeBee', 'iseries', 'RabbitStu', 'PeeBee', 'RabbitStu'], ['servoman1', 'RabbitStu', 'servoman1', 'RabbitStu', 'RabbitStu', 'MarkM', 'RabbitStu'], ['Matt_UAV-America', 'MarkM', 'Rob_Lefebvre', 'Matt_UAV-America'], ['scampos', 'Andre-K', 'MarkM', 'scampos', 'parkgt', 'MarkM'], ['scaru', 'scaru', 'billb'], ['lftmx3', 'MarkM', 'lftmx3', 'iseries'], ['joel0407', 'Flyhard', 'joel0407', 'joel0407', 'Flyhard', 'joel0407', 'joel0407', 'Flyhard', 'joel0407', 'Flyhard', 'joel0407', 'Flyhard', 'Flyhard', 'Flyhard', 'joel0407', 'Flyhard', 'Rob_Lefebvre', 'Flyhard', 'joel0407'], ['Flyhigh', 'parkgt'], ['johnnybravo', 'Rob_Lefebvre', 'johnnybravo'], ['blaugold', 'Flyhard', 'Rob_Lefebvre'], ['Thorsten', 'jschall', 'Thorsten', 'Thorsten', 'Thorsten', 'Thorsten', 'Thorsten', 'Thorsten'], ['FullScalePilot2', 'FullScalePilot2'], ['Thorsten', 'jschall', 'Thorsten', 'jschall', 'Thorsten', 'Thorsten', 'Thorsten', 'Thorsten', 'Thorsten', 'jschall', 'Thorsten', 'jschall', 'Thorsten', 'jschall', 'Thorsten', 'Thorsten'], ['lionelrik', 'lionelrik', 'OtherHand', 'lionelrik'], ['AndyL33', 'OtherHand', 'AndyL33', 'OtherHand', 'AndyL33', 'AndyL33'], ['rsilva', 'TCIII', 'rsilva'], ['lorenjz', 'lorenjz'], ['deepthought', 'deepthought'], ['spiekey', 'spiekey'], ['AdamMullins', 'cam_stevens'], ['alexjx', 'jschall', 'alexjx', 'jschall', 'alexjx', 'jschall'], ['gabejc', 'Bill_English', 'gabejc'], ['manzafly', 'jschall', 'manzafly'], ['bassntaz', 'jschall', 'bassntaz', 'jschall'], ['audiorecon', 'jschall'], ['Matt_UAV-America', 'jschall', 'Matt_UAV-America', 'Flyhard', 'jschall'], ['Tortel', 'jschall', 'Tortel', 'jschall', 'jschall', 'Tortel', 'jschall', 'jschall', 'Tortel'], ['ddv2005', 'jschall', 'KiwiHC16', 'jschall'], ['Stormfire03', 'Stormfire03', 'jschall'], ['Juanelm', 'jschall', 'Juanelm'], ['Hydropower', 'Gary_Mortimer', 'Hydropower', 'jschall'], ['X1Aero', 'jschall', 'X1Aero', 'X1Aero', 'jschall', 'jschall'], ['Tortel', 'jschall', 'Tortel', 'jschall', 'Tortel'], ['creyc', 'creyc', 'Jezmo', 'lamenace'], ['Gmorrow', 'jschall', 'jschall'], ['burnomatic', 'jschall', 'burnomatic'], ['johnnybravo', 'johnnybravo'], ['jbest', 'jbest', 'jschall', 'jbest', 'jbest'], ['johnnybravo', 'jschall', 'johnnybravo', 'jschall'], ['howroyd', 'jschall', 'jschall'], ['agarabaghi', 'jschall', 'jschall'], ['gabejc', 'jschall', 'gabejc', 'jschall', 'jschall', 'jschall', 'gabejc', 'jschall', 'jschall'], ['zign_zhao', 'MarkM', 'zign_zhao', 'haygood', 'MarkM', 'zign_zhao', 'MarkM', 'jschall', 'zign_zhao', 'jschall', 'zign_zhao', 'jschall', 'zign_zhao'], ['JKoontz', 'jschall', 'JKoontz', 'jschall'], ['DerFlash', 'jschall', 'DerFlash', 'jschall', 'DerFlash', 'jschall', 'DerFlash', 'DerFlash', 'jschall', 'DerFlash', 'DerFlash', 'DerFlash', 'DerFlash', 'DerFlash', 'jschall', 'jschall', 'DerFlash', 'jschall', 'DerFlash', 'jschall'], ['hoppy1977', 'jschall', 'hoppy1977'], ['deuce4', 'jschall', 'deuce4', 'jschall'], ['100Questions', 'mprince01', '100Questions', 'jschall', 'Vaako', 'jschall'], ['SDRiverRat', 'SDRiverRat', 'jschall', 'jschall', 'SDRiverRat', 'Rob_Lefebvre'], ['Carlcox89', 'Carlcox89', 'Carlcox89'], ['hoppy1977', 'jschall', 'hoppy1977', 'jschall', 'hoppy1977'], ['kd4gfy', 'jschall'], ['clouseau', 'Andre-K', 'clouseau', 'Andre-K', 'clouseau', 'clouseau', 'clouseau', 'jschall', 'clouseau', 'jschall'], ['mskogmo', 'mskogmo', 'blaugold', 'mskogmo', 'jschall', 'mskogmo'], ['blaugold', 'jschall', 'blaugold', 'TCIII', 'blaugold', 'jschall', 'blaugold'], ['CarlD', 'CarlD', 'Richard_M', 'CarlD', 'Richard_M', 'jschall', 'jschall', 'jschall'], ['jeffridj', 'jschall', 'jeffridj', 'jeffridj', 'jeffridj', 'jeffridj'], ['jeffridj', 'Georgiexu', 'jeffridj', 'jschall', 'jeffridj'], ['nicegraham', 'jschall', 'nicegraham', 'nicegraham', 'jschall', 'nicegraham', 'jschall'], ['mskogmo', 'jschall', 'mskogmo', 'jschall', 'mskogmo', 'jschall', 'mskogmo', 'jschall', 'mskogmo', 'jschall'], ['Flyhigh', 'jschall', 'Flyhigh', 'jschall', 'Flyhigh', 'Flyhigh'], ['Juanelm', 'jschall', 'Juanelm', 'jschall'], ['f11music', 'f11music', 'jschall', 'f11music', 'jschall', 'f11music'], ['azrael_sk', 'jschall', 'Flyhard', 'azrael_sk', 'jschall', 'azrael_sk', 'jschall', 'Upnorth4', 'jakekc0uxp', 'jakekc0uxp', 'jschall'], ['Stephen_G', 'Stephen_G', 'Flyhard', 'jschall'], ['mrfunk', 'jschall'], ['Till_Chile', 'Till_Chile', 'jschall', 'Till_Chile', 'Till_Chile', 'jschall'], ['andy-flyX', 'jschall'], ['X1Aero', 'jschall', 'X1Aero', 'X1Aero', 'X1Aero'], ['ronhogwarts', 'Leonardthall', 'dazzab', 'dazzab', 'ronhogwarts', 'ronhogwarts', 'Leonardthall', 'ronhogwarts', 'Leonardthall', 'ronhogwarts', 'Leonardthall', 'ronhogwarts', 'jschall'], ['neurax', 'jschall', 'neurax', 'jschall'], ['nicegraham', 'jschall'], ['cedivad', 'cedivad', 'cedivad', 'jschall', 'cedivad', 'jschall'], ['guittoon', 'jschall', 'guittoon', 'guittoon', 'guittoon', 'jschall'], ['khanafin', 'jschall', 'khanafin'], ['BTBlueSkies', 'jschall', 'BTBlueSkies', 'jschall'], ['martyouel', 'jschall', 'martyouel', 'azrael_sk'], ['tomcleaver', 'jschall'], ['evgbog', 'jschall', 'evgbog', 'jschall'], ['nikiforospav', 'jschall'], ['rebelboy', 'jschall'], ['Pdounavis', 'crshmstr', 'Pdounavis', 'Pdounavis', 'crshmstr', 'Pdounavis', 'Pdounavis', 'jschall'], ['shabala', 'jschall'], ['creyc', 'sevet', 'creyc', 'jschall'], ['slimething', 'OtherHand', 'slimething', 'badzz', 'slimething', 'badzz', 'slimething', 'badzz', 'badzz', 'slimething', 'slimething', 'slimething', 'jschall', 'jschall'], ['Terryp', 'Andre-K', 'jschall'], ['billytkid', 'billytkid', 'Tortel', 'jschall'], ['chrron', 'chrron', 'crshmstr', 'chrron', 'jschall'], ['Peterev', 'Peterev', 'Peterev', 'Peterev', 'system', 'Peterev', 'Peterev', 'Peterev', 'Peterev', 'Peterev', 'jschall', 'Peterev'], ['Ash_Daytona', 'jschall', 'Ash_Daytona', 'Ash_Daytona'], ['agarabaghi', 'agarabaghi', 'rcoxey'], ['Mark_Martin', 'Mark_Martin', 'CraigElder'], ['crshmstr', 'crshmstr', 'system'], ['beargrylls', 'kangajump', 'beargrylls'], ['Sabbie', 'jschall', 'Sabbie'], ['Stephen_G', 'jschall', 'Stephen_G'], ['jeepin95', 'Flyhard', 'jschall', 'jschall', 'jeepin95'], ['Lperry3', 'jschall', 'Lperry3'], ['Flyhard', 'jschall', 'Flyhard', 'jschall', 'Flyhard', 'jschall', 'Flyhard', 'Flyhard', 'jschall', 'jschall', 'Flyhard', 'jschall', 'Flyhard'], ['MA_Hexa', 'jschall', 'jschall', 'MA_Hexa', 'jschall'], ['nikiforospav', 'nikiforospav', 'jschall'], ['artemen', 'jschall'], ['wifiguru10', 'jschall'], ['Richard_M', 'jschall', 'jschall', 'Richard_M', 'jschall', 'Richard_M', 'Richard_M', 'Richard_M', 'Richard_M', 'Richard_M', 'Richard_M', 'jschall'], ['raphh', 'jschall', 'jschall', 'jschall', 'raphh', 'jschall', 'raphh', 'jschall', 'raphh', 'sevet', 'raphh', 'jschall'], ['sevet', 'sevet', 'Leonardthall'], ['BTBlueSkies', 'BTBlueSkies', 'BTBlueSkies'], ['daleshort', 'scauxuxing', 'daleshort'], ['cstallings', 'FpvDrone-EG', 'cstallings', 'cstallings', 'FpvDrone-EG', 'cstallings'], ['bergovoy', 'FpvDrone-EG', 'bergovoy'], ['Headgeek', 'FpvDrone-EG', 'Headgeek', 'FpvDrone-EG'], ['dms_340', 'FpvDrone-EG', 'dms_340', 'FpvDrone-EG'], ['scauxuxing', 'scauxuxing'], ['neilyo', 'neilyo', 'jschall'], ['Richard_M', 'fer3DR', 'jschall'], ['slimething', 'Richard_M', 'jschall'], ['bisenberger', 'jschall', 'bisenberger', 'jschall'], ['soaringtuna', 'fer3DR', 'jschall'], ['Crady', 'Crady', 'gonella', 'gonella', 'jschall'], ['hemicro', 'jschall', 'hemicro', 'jschall', 'hemicro', 'jschall', 'hemicro'], ['mprince01', 'jschall', 'mprince01', 'RabbitStu', 'mprince01', 'FpvDrone-EG', 'mprince01', 'FpvDrone-EG', 'jschall', 'jschall'], ['batcam', 'jschall'], ['c131frdave', 'fer3DR', 'c131frdave', 'jschall'], ['jaiume', 'jaiume', 'jschall', 'jaiume', 'jaiume', 'jaiume', 'fer3DR', 'jaiume', 'jschall'], ['lepapm', 'moombe', 'lepapm', 'lepapm', 'moombe', 'lepapm', 'jschall', 'lepapm', 'moombe', 'jschall', 'jschall', 'lepapm', 'jschall'], ['Fredric_S', 'jschall'], ['jklier', 'Andreas_Breitenstein', 'jklier', 'jklier', 'jschall', 'jklier', 'jschall', 'jklier', 'jschall'], ['Beachbreak', 'Beachbreak', 'jschall', 'Beachbreak', 'jschall', 'Beachbreak', 'jschall'], ['totaltmega', 'AlanGP', 'totaltmega', 'jschall', 'jschall', 'jschall', 'totaltmega', 'jschall'], ['agarabaghi', 'AlanGP', 'agarabaghi', 'jschall', 'jschall'], ['slimething', 'jschall', 'slimething', 'slimething', 'Gary_Mortimer', 'slimething', 'jschall', 'jschall', 'jschall', 'jschall'], ['gsimpson2g', 'jschall'], ['lploumen', 'lploumen', 'jschall'], ['bonito13', 'jschall', 'jschall', 'bonito13', 'bonito13'], ['tango', 'tango', 'jschall', 'tango'], ['lorenjz', 'jschall'], ['X1Aero', 'AlanGP', 'X1Aero', 'jschall'], ['arran', 'CraigElder', 'jschall'], ['tango', 'RabbitStu'], ['kolaf', 'kolaf', 'rusty55125'], ['tim360', 'cala2', 'totaltmega'], ['mabo_2014', 'OtherHand'], ['healthyfatboy', 'CraigElder', 'healthyfatboy'], ['chanman', 'guittoon', 'chanman'], ['brandonros', 'brandonros'], ['VizBizTas', 'Graham_Dyer', 'VizBizTas', 'Graham_Dyer', 'VizBizTas'], ['Bobby111', 'Bobby111', 'CraigElder', 'Bobby111', 'Bobby111', 'Bobby111', 'CraigElder', 'jschall', 'Bobby111', 'Bobby111'], ['jubalr', 'LVNona', 'llamatrails', 'StefanG', 'llamatrails'], ['aeonstar', 'aeonstar', 'aeonstar', 'paamand', 'aeonstar'], ['kolaf', 'texag'], ['rgury', 'rgury', 'Andre-K', 'Andre-K', 'rgury'], ['akkthompson', 'akkthompson', 'Rob_Lefebvre', 'akkthompson', 'akkthompson', 'Rob_Lefebvre', 'Rob_Lefebvre', 'akkthompson', 'akkthompson'], ['i3dm2', 'StefanG'], ['ramin', 'StefanG'], ['charleyshf', 'kfennell', 'charleyshf', 'charleyshf'], ['xoltri', 'StefanG', 'xoltri'], ['kfennell', 'kfennell'], ['KRCNZ', 'KRCNZ'], ['viperz28', 'viperz28', 'viperz28'], ['AerieWorks', 'AerieWorks', 'Johnsinski', 'AerieWorks', 'Johnsinski'], ['rcoxey', 'rcoxey'], ['joshk', 'mikronerd'], ['mprince01', 'mprince01'], ['BTBlueSkies', 'njfsu2', 'njfsu2'], ['OAPpilot', 'OAPpilot', 'bionicbone', 'bionicbone', 'OAPpilot'], ['petrochen', 'petrochen', 'bionicbone', 'petrochen'], ['outerwave', 'StefanG'], ['kf6bbl', 'OtherHand', 'kf6bbl', 'Andre-K', 'Rob_Lefebvre', 'SkyHawkDP', 'OtherHand', 'kf6bbl', 'kf6bbl', 'kf6bbl', 'kf6bbl', 'OtherHand', 'jschall', 'troystrum', 'troystrum', 'kf6bbl', 'kf6bbl', 'OtherHand', 'fluffyflyer', 'troystrum', 'kf6bbl', 'troystrum', 'Rob_Lefebvre', 'Rob_Lefebvre', 'Rob_Lefebvre', 'Rob_Lefebvre', 'troystrum', 'fluffyflyer', 'fluffyflyer', 'kf6bbl', 'kf6bbl', 'Rob_Lefebvre', 'fluffyflyer'], ['Robot', 'tobiykohr'], ['viperz28', 'viperz28', 'StefanG', 'viperz28', 'viperz28', 'viperz28'], ['peter750', 'Rob_Lefebvre', 'peter750', 'CraigElder', 'peter750', 'jschall', 'peter750', 'xoltri', 'Sandyem16', 'BobFlint', 'peter750', 'Sandyem16', 'mjsavage71', 'jschall', 'BobFlint', 'jschall', 'BobFlint', 'StefanG', 'jschall', 'CraigElder', 'peter750', 'jschall', 'darknula', 'peter750', 'badzz', 'SmItLeR'], ['apogeecmb', 'jschall', 'apogeecmb', 'jschall', 'thePrestige'], ['bionicbone', 'bionicbone'], ['UAVer', 'StefanG'], ['enderffx', 'mikronerd', 'Andre-K'], ['ajaxs87', 'ajaxs87'], ['X1Aero', 'derlangekelle'], ['Fabio_Fly', 'zhoter'], ['yvesOttawa', 'yvesOttawa', 'yvesOttawa', 'yvesOttawa'], ['jhatton', 'jhatton', 'OtherHand', 'jhatton', 'britdavis', 'OtherHand', 'jhatton'], ['jvictorfc', 'renoflash', 'jvictorfc', 'jvictorfc'], ['mprince01', 'kangajump', 'mprince01', 'mprince01', 'StefanG', 'mprince01', 'StefanG', 'mprince01', 'StefanG'], ['ianfreemantle', 'jschall', 'ianfreemantle'], ['Amokka', 'jschall', 'Amokka', 'jschall', 'Amokka'], ['plusmartin', 'jschall'], ['teras', 'jschall', 'Gaucho'], ['mohref', 'StefanG'], ['BobFlint', 'Andre-K', 'Andre-K', 'BobFlint', 'Andre-K', 'BobFlint', 'Andre-K', 'BobFlint', 'BobFlint', 'peter750', 'BobFlint', 'BobFlint', 'peter750', 'BobFlint', 'BobFlint', 'xoltri', 'Jon22', 'BobFlint', 'peter750', 'BobFlint', 'peter750', 'BobFlint', 'jschall', 'peter750', 'Jon22', 'peter750', 'Jon22', 'CraigElder'], ['njfsu2', 'njfsu2', 'StefanG', 'njfsu2', 'StefanG', 'StefanG', 'njfsu2', 'njfsu2', 'kangajump'], ['Petey-Spine', 'R-thur', 'TCIII', 'R-thur', 'Sen_Zaurak', 'R-thur'], ['kuspower', 'Autarch', 'kuspower', 'kangajump'], ['lourickey41', 'Andre-K', 'Sen_Zaurak'], ['Artforge', 'OtherHand', 'Artforge', 'OtherHand'], ['sevet', 'sevet', 'ArunasG', 'sevet', 'ArunasG'], ['wrightous10911', 'jschall', 'jschall'], ['OAPpilot', 'jschall', 'OAPpilot', 'jschall'], ['mirko91', 'mirko91', 'mirko91'], ['jjure', 'mikronerd', 'jjure', 'mikronerd'], ['tapsa', 'tapsa', 'tapsa'], ['tweerts', 'OtherHand', 'tweerts', 'jschall', 'FpvDrone-EG'], ['Indrek', 'jschall', 'Indrek'], ['optlock', 'argos44', 'Rob_Lefebvre', 'jschall', 'jschall', 'optlock', 'optlock', 'jschall', 'badzz', 'jschall', 'optlock'], ['kf6bbl', 'mdisher', 'mdisher', 'mdisher', 'mdisher', 'kf6bbl', 'foobarbecue', 'g_gregory'], ['petrochen', 'tapsa', 'Rob_Lefebvre', 'jschall'], ['nicegraham', 'jschall'], ['yvesOttawa', 'yvesOttawa', 'badzz', 'yvesOttawa', 'badzz', 'yvesOttawa', 'yvesOttawa'], ['rfiddelke', 'LTMNO'], ['bonito13', 'badzz', 'bonito13'], ['shaggee', 'badzz'], ['mikronerd', 'mikronerd', 'jschall', 'mikronerd', 'jschall', 'mikronerd'], ['roosauce', 'roosauce'], ['kfriede', 'kfriede', 'jschall', 'kfriede'], ['FpvDrone-EG', 'jschall', 'FpvDrone-EG', 'jschall', 'FpvDrone-EG', 'FpvDrone-EG'], ['john_Riv', 'TCIII', 'john_Riv'], ['LuisVale', 'LuisVale', 'jschall', 'LuisVale'], ['dazzab', 'jschall', 'dazzab', 'jschall', 'jschall', 'jschall', 'dazzab', 'dazzab', 'dazzab', 'jschall', 'dazzab', 'dazzab', 'jschall', 'dazzab', 'dazzab', 'jschall', 'dazzab', 'jschall', 'dazzab', 'Leonardthall', 'dazzab', 'Leonardthall', 'dazzab', 'Rob_Lefebvre', 'jschall', 'dazzab', 'dazzab', 'jschall', 'dazzab', 'dazzab', 'jschall', 'dazzab'], ['hemicro', 'jschall', 'hemicro', 'jschall', 'dramida'], ['entomophile', 'jschall', 'entomophile'], ['CHRISGA1A', 'TCIII', 'Graham_Dyer', 'CHRISGA1A'], ['X1Aero', 'jschall', 'X1Aero', 'X1Aero', 'jschall'], ['jhatton', 'jhatton', 'jhatton', 'jhatton'], ['andrew', 'jschall', 'andrew', 'TCIII'], ['jvictorfc', 'Oregonh2o', 'jschall', 'jvictorfc', 'Oregonh2o', 'jschall', 'Andre-K', 'jvictorfc', 'jschall', 'jvictorfc', 'jschall', 'jvictorfc', 'jschall', 'Rob_Lefebvre', 'car2carl', 'Rob_Lefebvre', 'car2carl', 'dongfang', 'jschall'], ['sjjbennett', 'mprince01', 'jschall', 'sjjbennett', 'bschlipf', 'jschall', 'jschall', 'sjjbennett', 'jschall', 'sjjbennett', 'sjjbennett', 'jschall', 'sjjbennett'], ['Gaucho', 'Gaucho', 'jschall', 'jschall', 'jschall', 'Gaucho', 'Gaucho', 'Gaucho', 'jschall', 'jschall', 'Gaucho', 'jschall', 'Gaucho', 'jschall', 'Gaucho', 'Gaucho', 'Gaucho'], ['OKstratos', 'Gary_Mortimer', 'OKstratos', 'Gary_Mortimer', 'OKstratos'], ['bellibelson', 'jschall', 'jschall', 'bellibelson', 'bellibelson', 'jschall', 'jschall', 'jschall', 'bellibelson', 'meee1', 'bellibelson', 'bellibelson', 'bellibelson', 'Rob_Lefebvre', 'bellibelson'], ['britdavis', 'britdavis'], ['tedlim', 'jschall', 'tedlim', 'jschall', 'tedlim', 'jschall'], ['bcdebusk', 'CraigElder', 'bcdebusk', 'CraigElder', 'bcdebusk', 'jschall', 'bcdebusk'], ['spenex', 'jschall', 'spenex', 'TCIII', 'spenex'], ['preditor4u', 'preditor4u', 'preditor4u', 'jschall', 'preditor4u', 'Leonardthall', 'preditor4u', 'Leonardthall', 'preditor4u', 'blackbloy', 'blackbloy'], ['bisenberger', 'bisenberger'], ['Henri', 'jschall', 'Henri'], ['mprince01', 'CraigElder', 'mprince01', 'CraigElder', 'mprince01'], ['juniorcappy', 'jschall'], ['ziisco', 'micropet', 'jschall', 'jschall', 'ziisco', 'jschall', 'ziisco', 'ziisco'], ['diyohl', 'jschall', 'diyohl', 'diyohl', 'jschall'], ['Mihai', 'jschall'], ['britdavis', 'britdavis', 'britdavis', 'OtherHand', 'britdavis', 'jschall', 'britdavis', 'britdavis', 'SkyHawkDP', 'SkyHawkDP', 'britdavis', 'jschall', 'jschall'], ['tedlim', 'TCIII'], ['DrMarty', 'DrMarty'], ['geereg', 'SkyHawkDP'], ['diyohl', 'jschall', 'diyohl', 'jschall', 'diyohl'], ['iseries', 'jschall', 'iseries', 'iseries', 'CraigElder', 'CraigElder', 'iseries'], ['SeismicCWave', 'Rob_Lefebvre', 'SeismicCWave', 'Rob_Lefebvre', 'SeismicCWave'], ['sneeden', 'jschall', 'sneeden', 'jschall', 'dbraiden', 'TCIII'], ['mdisher', 'mdisher', 'jschall', 'mdisher', 'jschall', 'mdisher'], ['Ken_Falk', 'Hugues', 'Ken_Falk', 'jschall', 'Oregonh2o', 'Ken_Falk'], ['lorenjz', 'W4DJW', 'OtherHand', 'W4DJW'], ['mcadrones', 'texag'], ['f11music', 'jschall', 'f11music', 'jschall', 'f11music'], ['X1Aero', 'jschall', 'X1Aero'], ['Xerravon', 'Xerravon', 'Xerravon', 'jschall'], ['hemicro', 'jschall', 'hemicro', 'jschall', 'hemicro', 'Hugues'], ['whte_rbt', 'whte_rbt'], ['Hugues', 'jschall', 'jschall', 'Hugues', 'Hugues', 'jschall', 'Hugues', 'jschall', 'jschall', 'Hugues', 'jschall', 'Hugues', 'jschall', 'Hugues', 'Rob_Lefebvre', 'Hugues'], ['Murphy', 'jschall', 'Murphy'], ['i3dm2', 'jschall', 'i3dm2', 'jschall', 'i3dm2', 'jschall', 'i3dm2', 'i3dm2', 'jschall', 'i3dm2', 'jschall', 'marco3dr', 'i3dm2', 'jschall', 'Xerravon'], ['delflies', 'JNJO01', 'delflies', 'jschall', 'delflies', 'jschall', 'delflies', 'jschall'], ['flyboy', 'flyboy', 'flyboy', 'jschall', 'flyboy'], ['tsuskas', 'jschall', 'tsuskas', 'tsuskas'], ['Andre-K', 'jschall', 'Andre-K'], ['Pomaroli', 'jschall'], ['diyohl', 'jschall'], ['neilhnz', 'neilhnz', 'jschall', 'neilhnz', 'jschall', 'neilhnz', 'jschall', 'jschall', 'f11music', 'jschall', 'f11music', 'jschall', 'neilhnz', 'jschall'], ['chriscuddihy', 'chriscuddihy'], ['jhonny001', 'jhonny001', 'Andre-K', 'jschall'], ['totallycontrolled', 'jschall', 'totallycontrolled', 'jschall', 'totallycontrolled'], ['jvictorfc', 'jschall', 'jvictorfc'], ['kdbaerialworks', 'jschall'], ['cblzaccie', 'cblzaccie', 'Andre-K', 'cblzaccie', 'cblzaccie', 'Andre-K', 'Andre-K', 'cblzaccie', 'cblzaccie', 'Andre-K', 'cblzaccie', 'cblzaccie', 'OtherHand', 'cblzaccie'], ['jcastillo0424', 'markorman'], ['dazzab', 'dazzab', 'CraigElder', 'ErikSu', 'dazzab', 'CraigElder', 'dazzab', 'CraigElder', 'jschall', 'dazzab', 'dazzab', 'CraigElder', 'dazzab', 'Leonardthall', 'dazzab', 'Leonardthall', 'jschall', 'dazzab', 'Leonardthall', 'dazzab', 'jschall', 'dazzab'], ['deflyhigh', 'Andre-K', 'deflyhigh'], ['Tconners', 'Shep_pard', 'Andre-K'], ['britdavis', 'meee1', 'britdavis'], ['markorman', 'Sandyem16'], ['markorman', 'jschall'], ['gbadger', 'TCIII'], ['DerFlash', 'DerFlash'], ['basimn', 'TCIII', 'basimn'], ['helste', 'helste', 'helste', 'dazzab', 'Andre-K', 'helste', 'Andre-K', 'helste', 'dazzab'], ['AndreKotze', 'Leonardthall', 'AndreKotze', 'AndreKotze', 'AndreKotze', 'AndreKotze'], ['dazzab', 'JoshW', 'dazzab', 'JoshW', 'dazzab', 'dazzab', 'jschall', 'dazzab'], ['RobertCL', 'Leonardthall', 'RobertCL'], ['BobFlint', 'jschall', 'BobFlint', 'blackbloy', 'jschall', 'Leonardthall', 'blackbloy', 'BobFlint', 'jschall'], ['pad73', 'jschall', 'pad73', 'pad73'], ['farley', 'Gary_Mortimer', 'jschall'], ['jbest', 'jschall', 'jbest', 'jbest'], ['seanbau', 'jschall', 'seanbau', 'seanbau', 'jschall', 'seanbau', 'jschall', 'seanbau'], ['ReadyEdi', 'Gary_Mortimer', 'jschall'], ['dazzab', 'jschall', 'dazzab', 'jschall', 'jschall', 'dazzab', 'Andre-K'], ['delflies', 'Andre-K', 'delflies', 'Andre-K', 'jschall'], ['marcelhell', 'rmackay9', 'marcelhell', 'Henri'], ['Henri', 'cooke86', 'Henri', 'Henri'], ['veepee78', 'billb', 'veepee78'], ['cooke86', 'cooke86'], ['loconetter', 'loconetter'], ['akprincehbd', 'akprincehbd', 'akprincehbd', 'Leonardthall', 'akprincehbd', 'Leonardthall', 'akprincehbd', 'akprincehbd'], ['bc2801', 'bc2801'], ['dazzab', 'rmackay9', 'rmackay9', 'dazzab', 'dazzab', 'dazzab'], ['hanshadow', 'Andre-K', 'KA800', 'hanshadow'], ['Matt_UAV-America', 'Matt_UAV-America'], ['spectre338', 'around'], ['sameerlaghari1', 'TCIII', 'gary', 'sameerlaghari1', 'gary', 'sameerlaghari1'], ['KA800', 'rmackay9', 'KA800'], ['yurik_ryba', 'rmackay9', 'yurik_ryba'], ['hwurzburg', 'rmackay9'], ['Tconners', 'rmackay9'], ['ChiggenWingz', 'TCIII', 'ChiggenWingz', 'jschall', 'ChiggenWingz', 'jschall'], ['texag', 'system', 'CraigElder', 'texag', 'texag', 'texag'], ['vhendrix73', 'TCIII', 'vhendrix73', 'proficnc', 'vhendrix73'], ['P_I_Engineer', 'proficnc', 'CraigElder'], ['gjardar', 'proficnc'], ['Cubensia', 'jschall', 'Cubensia', 'Cubensia'], ['Brendan', 'Brendan', 'Brendan', 'OtherHand', 'proficnc', 'Brendan', 'proficnc', 'rmackay9', 'proficnc', 'Brendan', 'blackbloy'], ['akprincehbd', 'TCIII', 'akprincehbd', 'Gary_Mortimer', 'akprincehbd', 'jschall', 'akprincehbd', 'akprincehbd', 'akprincehbd'], ['DerFlash', 'jschall', 'DerFlash'], ['jgrog76', 'OtherHand', 'jgrog76', 'OtherHand', 'jschall'], ['gjardar', 'TCIII', 'gjardar', 'gjardar', 'jschall'], ['gary', 'gary'], ['cirilo', 'cirilo', 'bionicbone'], ['mps17', 'Andre-K'], ['BigTbuilder', 'rickp', 'proficnc', 'BigTbuilder', 'BigTbuilder', 'BigTbuilder', 'BigTbuilder', 'rickp', 'BigTbuilder', 'system'], ['arnaldo-ortega', 'yurik_ryba', 'arnaldo-ortega'], ['bionicbone', 'rmackay9', 'bionicbone', 'bionicbone'], ['KA800', 'Andre-K', 'bionicbone'], ['bisenberger', 'rickp', 'StefanG', 'rickp', 'bisenberger'], ['f11music', 'TCIII', 'f11music', 'f11music', 'rmackay9', 'f11music', 'proficnc'], ['dazzab', 'rickp', 'dazzab', 'dazzab'], ['Matt_UAV-America', 'rmackay9', 'rmackay9', 'Matt_UAV-America', 'Matt_UAV-America'], ['hwurzburg', 'hwurzburg', 'rmackay9', 'hwurzburg', 'hwurzburg', 'rmackay9', 'hwurzburg', 'rmackay9', 'rickp', 'proficnc'], ['rcflyer40t', 'rcflyer40t', 'rcflyer40t', 'proficnc'], ['zidlov', 'proficnc', 'zidlov'], ['loupy31', 'Brendan', 'loupy31', 'proficnc'], ['chamanea', 'StefanG'], ['dazzab', 'rickp', 'dazzab', 'rickp', 'dazzab', 'rickp', 'dazzab'], ['JBennet', 'rmackay9', 'JBennet'], ['dot-com', 'rmackay9', 'dot-com'], ['renaudbarbier', 'rmackay9', 'renaudbarbier', 'rmackay9', 'renaudbarbier', 'renaudbarbier', 'helste', 'renaudbarbier', 'helste', 'renaudbarbier', 'Octofly_Hilversum', 'renaudbarbier', 'StefanG', 'rmackay9', 'wolke'], ['Andrew_Austin', 'Andre-K', 'Andrew_Austin'], ['jubalr', 'rickp'], ['bisenberger', 'JoshW'], ['Andrew_Austin', 'StefanG', 'Andrew_Austin'], ['bjsigmon', 'TonyTronicWSP'], ['Hands0n', 'rickp', 'rmackay9', 'Hands0n', 'Hands0n'], ['hkimble', 'rcflyer40t', 'rickp', 'hkimble', 'rcflyer40t', 'hkimble', 'Gary_Mortimer', 'rmackay9', 'hkimble'], ['Kiwa21', 'StefanG', 'Kiwa21', 'RabbitStu'], ['ronhogwarts', 'RabbitStu', 'StefanG', 'ronhogwarts'], ['OtherHand', 'CraigElder'], ['themightythor', 'Rob_Lefebvre', 'themightythor'], ['themightythor', 'themightythor', 'themightythor'], ['othala', 'othala', 'AndreKotze'], ['Issus', 'rmackay9', 'Issus'], ['Octofly_Hilversum', 'rcflyer40t'], ['johnc73', 'Gary_Mortimer', 'rcflyer40t', 'rcflyer40t'], ['mamun_dip', 'Andre-K', 'mamun_dip'], ['edobeirne', 'edobeirne'], ['bds1', 'gary'], ['charosenz', 'charosenz']]"
   ]
  },
  {
   "cell_type": "code",
   "execution_count": null,
   "id": "eff3851c",
   "metadata": {},
   "outputs": [],
   "source": [
    "len(U)"
   ]
  },
  {
   "cell_type": "code",
   "execution_count": null,
   "id": "6b1c95d6",
   "metadata": {
    "scrolled": true
   },
   "outputs": [],
   "source": [
    "# if poster'comment, then 1, others 0\n",
    "P=[]\n",
    "for i in range(len(U)):\n",
    "    if len(U[i]) == 1:\n",
    "        P.append(0)\n",
    "    else:\n",
    "        for j in range(1, len(U[i])):\n",
    "            if U[i][j] == U[i][0]:\n",
    "                P.append(1)\n",
    "            else:\n",
    "                P.append(0)"
   ]
  },
  {
   "cell_type": "code",
   "execution_count": null,
   "id": "76ae367d",
   "metadata": {},
   "outputs": [],
   "source": [
    "gf['P'] = P"
   ]
  },
  {
   "cell_type": "code",
   "execution_count": null,
   "id": "55ce5487",
   "metadata": {
    "scrolled": true
   },
   "outputs": [],
   "source": [
    "gf = gf.dropna(axis=0)"
   ]
  },
  {
   "cell_type": "code",
   "execution_count": null,
   "id": "fa117068",
   "metadata": {
    "scrolled": true
   },
   "outputs": [],
   "source": [
    "numlist = list(range(len(gf)))\n",
    "gf = gf.set_index(pd.Index(numlist))\n",
    "gf"
   ]
  },
  {
   "cell_type": "code",
   "execution_count": null,
   "id": "728c76d1",
   "metadata": {},
   "outputs": [],
   "source": [
    "Q=[]\n",
    "for i in range(len(gf)):\n",
    "    if \"?\" in gf[\"Contents\"][i]:\n",
    "        Q.append(1)\n",
    "    else: Q.append(0)\n",
    "len(Q)"
   ]
  },
  {
   "cell_type": "code",
   "execution_count": null,
   "id": "e1f6f47e",
   "metadata": {
    "scrolled": true
   },
   "outputs": [],
   "source": [
    "gf[\"Q\"] = Q\n",
    "gf"
   ]
  },
  {
   "cell_type": "code",
   "execution_count": null,
   "id": "7bd55881",
   "metadata": {},
   "outputs": [],
   "source": [
    "# Preprocessing #4 new\n",
    "import re\n",
    "from tensorflow.keras.preprocessing.text import text_to_word_sequence\n",
    "\n",
    "for i in range(len(gf)):\n",
    "    content = gf.iloc[i,6]\n",
    "\n",
    "    # removing address\n",
    "    contents = content.split()\n",
    "    for j in range(len(contents)):\n",
    "        if contents[j].startswith(\"https:\"):\n",
    "            contents[j] = \"\"\n",
    "    content = \" \".join(contents)\n",
    "\n",
    "    # removing special character(regular expression)\n",
    "    content = re.sub(r\"[^a-zA-Z0-9-?]\",\" \",content)\n",
    "\n",
    "    # transger lower case\n",
    "    content = content.lower()\n",
    "    \n",
    "    # dataframe\n",
    "    gf.iloc[i,6] = content"
   ]
  },
  {
   "cell_type": "code",
   "execution_count": null,
   "id": "5edf1ffd",
   "metadata": {
    "scrolled": true
   },
   "outputs": [],
   "source": [
    "gf.iloc[:,2] = (gf.iloc[:,2] - gf.iloc[:,2].mean())/gf.iloc[:,2].std()\n",
    "gf.iloc[:,3] = (gf.iloc[:,3] - gf.iloc[:,3].mean())/gf.iloc[:,3].std()\n",
    "gf.iloc[:,4] = (gf.iloc[:,4] - gf.iloc[:,4].mean())/gf.iloc[:,4].std()\n",
    "gf.iloc[:,7] = (gf.iloc[:,7] - gf.iloc[:,7].mean())/gf.iloc[:,7].std()\n",
    "gf.iloc[:,8] = (gf.iloc[:,8] - gf.iloc[:,8].mean())/gf.iloc[:,8].std()\n",
    "gf.iloc[:,9] = (gf.iloc[:,9] - gf.iloc[:,9].mean())/gf.iloc[:,9].std()\n",
    "gf.iloc[:,10] = (gf.iloc[:,10].astype(float) - gf.iloc[:,10].astype(float).mean())/gf.iloc[:,10].astype(float).std()\n",
    "gf.iloc[:,11] = (gf.iloc[:,11].astype(float) - gf.iloc[:,11].astype(float).mean())/gf.iloc[:,11].astype(float).std()\n",
    "gf.iloc[:,12] = (gf.iloc[:,12].astype(float) - gf.iloc[:,12].astype(float).mean())/gf.iloc[:,12].astype(float).std()\n",
    "gf.iloc[:,13] = (gf.iloc[:,13].astype(float) - gf.iloc[:,13].astype(float).mean())/gf.iloc[:,13].astype(float).std()\n",
    "gf.iloc[:,14] = (gf.iloc[:,14].astype(float) - gf.iloc[:,14].astype(float).mean())/gf.iloc[:,14].astype(float).std()\n",
    "gf.iloc[:,15] = (gf.iloc[:,15].astype(float) - gf.iloc[:,15].astype(float).mean())/gf.iloc[:,15].astype(float).std()\n",
    "gf.iloc[:,16] = (gf.iloc[:,16].astype(float) - gf.iloc[:,16].astype(float).mean())/gf.iloc[:,16].astype(float).std()\n",
    "gf.iloc[:,17] = (gf.iloc[:,17].astype(float) - gf.iloc[:,17].astype(float).mean())/gf.iloc[:,17].astype(float).std()\n",
    "gf.iloc[:,18] = (gf.iloc[:,18].astype(float) - gf.iloc[:,18].astype(float).mean())/gf.iloc[:,18].astype(float).std()\n",
    "gf.iloc[:,19] = (gf.iloc[:,19].astype(float) - gf.iloc[:,19].astype(float).mean())/gf.iloc[:,19].astype(float).std()\n",
    "gf"
   ]
  },
  {
   "cell_type": "code",
   "execution_count": null,
   "id": "b242372b",
   "metadata": {
    "scrolled": true
   },
   "outputs": [],
   "source": [
    "# 300 threads\n",
    "gf = gf[:1097]\n",
    "gf"
   ]
  },
  {
   "cell_type": "markdown",
   "id": "a66e842d",
   "metadata": {},
   "source": [
    "## Adding the text vector"
   ]
  },
  {
   "cell_type": "code",
   "execution_count": null,
   "id": "aa09fd8f",
   "metadata": {},
   "outputs": [],
   "source": [
    "from gensim.models import Word2Vec\n",
    "from gensim.models import KeyedVectors\n",
    "def get_document_vectors(document_list): # Each comment\n",
    "    document_embedding_list = []\n",
    "    commentnum=[]\n",
    "    for i in range(len(document_list)):\n",
    "        if len(document_list[i]) < 1:\n",
    "            document_embedding_list.append(zeros)\n",
    "            commentnum.append(i)\n",
    "        else:\n",
    "            doc2vec = None\n",
    "            count = 0\n",
    "            if len(document_list[i].split())==0:\n",
    "                document_embedding_list.append(zeros)\n",
    "                commentnum.append(i)\n",
    "            else: \n",
    "                for word in document_list[i].split():\n",
    "                    if word in list(vocabs):\n",
    "                        count += 1\n",
    "                        if doc2vec is None:\n",
    "                            doc2vec = word_vectors[word]\n",
    "                        else:\n",
    "                            doc2vec = doc2vec + word_vectors[word]\n",
    "                    else:\n",
    "                        if doc2vec is None:\n",
    "                            doc2vec = zeros\n",
    "                        else:\n",
    "                            doc2vec = doc2vec + zeros\n",
    "                if doc2vec is not None:\n",
    "                    if count == 0:\n",
    "                        doc2vec = doc2vec\n",
    "                        document_embedding_list.append(doc2vec)\n",
    "                        commentnum.append(i)\n",
    "                    else:\n",
    "                        doc2vec = doc2vec / count\n",
    "                        document_embedding_list.append(doc2vec)\n",
    "                        commentnum.append(i)\n",
    "    return document_embedding_list, commentnum"
   ]
  },
  {
   "cell_type": "code",
   "execution_count": null,
   "id": "ec63abc1",
   "metadata": {
    "scrolled": true
   },
   "outputs": [],
   "source": [
    "# model load\n",
    "model = Word2Vec.load('w2v_whole(35,5,1,1)_new')  # The best W2V\n",
    "word_vectors = model.wv\n",
    "vocabs = word_vectors.key_to_index\n",
    "\n",
    "# average embedding\n",
    "zeros = np.zeros((35,))\n",
    "document_embedding_list, commentnum = get_document_vectors(gf['Contents'])\n",
    "\n",
    "# DataFrame\n",
    "gf['embedding'] = document_embedding_list\n",
    "new_gf = gf[['Post','Replies','Views','Comment#','Len', 'Days', 'Link', \"visit\", \"read\", \"topic\", \"posts\",\"given\", \"received\", \"topic_c\", \"post_c\",'embedding','P','Q']]\n",
    "test_gf = new_gf\n",
    "test_gf"
   ]
  },
  {
   "cell_type": "markdown",
   "id": "1dc9b60a",
   "metadata": {},
   "source": [
    "## Making a feature vector and a label vector"
   ]
  },
  {
   "cell_type": "code",
   "execution_count": null,
   "id": "03453578",
   "metadata": {},
   "outputs": [],
   "source": [
    "features=[]\n",
    "for i in range(len(test_gf)):\n",
    "    feature=[]\n",
    "    # feature.append(R[\"Replies\"][i])    # Thread info, not related to each comment\n",
    "    # feature.append(R[\"Views\"][i])      # Thread info, not related to each comment\n",
    "    feature.append(test_gf[\"Comment#\"][i])     \n",
    "    feature.append(test_gf[\"Len\"][i])\n",
    "    feature.append(test_gf[\"Days\"][i])\n",
    "    feature.append(test_gf[\"Link\"][i])\n",
    "    feature.append(int(test_gf[\"visit\"][i]))\n",
    "    feature.append(int(test_gf[\"read\"][i]))\n",
    "    feature.append(int(test_gf[\"topic\"][i]))\n",
    "    feature.append(int(test_gf[\"posts\"][i]))\n",
    "    feature.append(int(test_gf[\"given\"][i]))\n",
    "    feature.append(int(test_gf[\"received\"][i]))\n",
    "    feature.append(int(test_gf[\"topic_c\"][i]))\n",
    "    feature.append(int(test_gf[\"post_c\"][i]))\n",
    "    feature.append(int(test_gf[\"P\"][i]))       \n",
    "    feature.append(int(test_gf[\"Q\"][i]))       \n",
    "    for j in range(len(test_gf['embedding'][i])):\n",
    "        feature.append(test_gf['embedding'][i][j])\n",
    "    features.append(feature)\n",
    "X = features\n",
    "len(X)   # number of data samples"
   ]
  },
  {
   "cell_type": "code",
   "execution_count": null,
   "id": "48f58baa",
   "metadata": {
    "scrolled": true
   },
   "outputs": [],
   "source": [
    "# Probablilstic Label 'y'\n",
    "help_label = pd.read_csv(\"UAV_dataset.csv\", index_col='Unnamed: 0')\n",
    "help_label = help_label[\"HelpLabel\"]\n",
    "y = help_label\n",
    "print(pd.Series(y).value_counts())"
   ]
  },
  {
   "cell_type": "code",
   "execution_count": null,
   "id": "60c559d5",
   "metadata": {},
   "outputs": [],
   "source": [
    "# Hard Label 'y_hard'\n",
    "y_hard = [1.00 if x==0.6667 else x for x in y]\n",
    "y_hard = [0.00 if x==0.3333 else x for x in y_hard]\n",
    "y_hard = pd.DataFrame(y_hard)  \n",
    "print(y_hard.value_counts())"
   ]
  },
  {
   "cell_type": "code",
   "execution_count": null,
   "id": "beaed8e0",
   "metadata": {},
   "outputs": [],
   "source": [
    "X = pd.DataFrame(X)\n",
    "X  # number of features is 49 (original 14 + w2v 35)"
   ]
  },
  {
   "cell_type": "code",
   "execution_count": null,
   "id": "638d9484",
   "metadata": {},
   "outputs": [],
   "source": []
  },
  {
   "cell_type": "markdown",
   "id": "5f2f3a3d",
   "metadata": {},
   "source": [
    "## Experiment setting"
   ]
  },
  {
   "cell_type": "code",
   "execution_count": null,
   "id": "546db379",
   "metadata": {},
   "outputs": [],
   "source": [
    "import warnings\n",
    "warnings.filterwarnings(\"ignore\")\n",
    "from sklearn import metrics\n",
    "import tensorflow as tf\n",
    "import keras\n",
    "from keras.models import Sequential\n",
    "from keras.layers import Dense\n",
    "from tensorflow.keras.optimizers import SGD\n",
    "from matplotlib import pyplot as plt\n",
    "from keras.layers import BatchNormalization, Dropout\n",
    "from keras.layers import Activation\n",
    "from keras import optimizers\n",
    "from scikeras.wrappers import KerasClassifier\n",
    "from sklearn.model_selection import StratifiedKFold\n",
    "from keras.callbacks import EarlyStopping"
   ]
  },
  {
   "cell_type": "code",
   "execution_count": null,
   "id": "ea8f8ebe",
   "metadata": {},
   "outputs": [],
   "source": [
    "hidden_node = 2\n",
    "def mlp_model():\n",
    "    model = Sequential()\n",
    "    model.add(Dense(hidden_node, input_dim=X.shape[1], kernel_initializer=keras.initializers.he_normal(seed=100)))\n",
    "    model.add(BatchNormalization())\n",
    "    model.add(Activation('sigmoid'))\n",
    "    model.add(Dense(1, activation='sigmoid'))\n",
    "    return model"
   ]
  },
  {
   "cell_type": "markdown",
   "id": "12647fe0",
   "metadata": {},
   "source": [
    "# 1. Focal(Hard) and SLS(Hard/diverse alphas"
   ]
  },
  {
   "cell_type": "code",
   "execution_count": null,
   "id": "96b502a7",
   "metadata": {
    "scrolled": true
   },
   "outputs": [],
   "source": [
    "epochs = 50\n",
    "batch_size = 32\n",
    "skf = StratifiedKFold(n_splits=5, shuffle=True, random_state = 0)\n",
    "\n",
    "B = [0.00, 0.01, 0.02, 0.03, 0.04, 0.05, 0.06, 0.07, 0.08, 0.09, 0.10]  # Hard/SLS\n",
    "\n",
    "for t in range(30):    # 30 times repeat    \n",
    "    res = pd.DataFrame({'Focal':[0, 0, 0, 0, 0]}, index = ['Acc','Pre','Rec','F1','R-AUC']) \n",
    "    # Focal\n",
    "    print('#'*50,'Focal','#'*50)\n",
    "    list_acc = []\n",
    "    list_pre = []\n",
    "    list_rec = []\n",
    "    list_f1 = []\n",
    "    list_rauc = []   \n",
    "    focal_model = mlp_model()   \n",
    "\n",
    "    n_iter = 0\n",
    "    for train_index, test_index in skf.split(X, y_hard):  # straticiation by y_hard(binary label)\n",
    "        n_iter += 1\n",
    "        X_train = X.iloc[train_index]\n",
    "        y_train= y_hard.iloc[train_index]\n",
    "        if n_iter == 1:\n",
    "            print(y_train.value_counts())\n",
    "        X_test = X.iloc[test_index]\n",
    "        y_test= y_hard.iloc[test_index]\n",
    "#         print('#'*10,'{0}th CV'.format(n_iter),'#'*10)\n",
    "        X_train = np.array(X_train)\n",
    "        y_train = np.array(y_train)\n",
    "        y_train = y_train.astype(float)\n",
    "        X_test = np.array(X_test)\n",
    "        y_test = np.array(y_test)\n",
    "        y_test = y_test.astype(float)\n",
    "\n",
    "        focal_model.compile(loss='BinaryFocalCrossentropy', optimizer=optimizers.Adam(learning_rate = 0.001), metrics=['accuracy'])\n",
    "        history = focal_model.fit(X_train, y_train, validation_data=(X_test, y_test), epochs=epochs, verbose=0, batch_size=batch_size)#, callbacks=[early_stopping])\n",
    "#         plt.plot(history.history['loss'], label='loss')\n",
    "#         plt.ylim([0, 1])\n",
    "#         plt.xlabel('Iteration',fontweight=\"bold\",fontsize = 15)\n",
    "#         plt.ylabel('Loss',fontweight=\"bold\",fontsize = 15)\n",
    "#         plt.title(\"Cost Function\",fontweight=\"bold\",fontsize = 20)\n",
    "#         plt.legend()\n",
    "#         plt.show()\n",
    "        predicted = np.round(focal_model.predict(X_test, verbose=0))\n",
    "        list_acc.append(metrics.accuracy_score(y_test, predicted))\n",
    "        list_pre.append(metrics.precision_score(y_test, predicted))\n",
    "        list_rec.append(metrics.recall_score(y_test, predicted))\n",
    "        list_f1.append(metrics.f1_score(y_test, predicted))\n",
    "        list_rauc.append(metrics.roc_auc_score(y_test, predicted))\n",
    "    res['Focal'] = [np.mean(list_acc), np.mean(list_pre), np.mean(list_rec), np.mean(list_f1), np.mean(list_rauc)]\n",
    "    print([np.mean(list_acc), np.mean(list_pre), np.mean(list_rec), np.mean(list_f1), np.mean(list_rauc)])\n",
    "    \n",
    "    for b in B:\n",
    "        print('#'*50,'SLS',b,'#'*50)\n",
    "        y_005 = [1-b if x==1.0 else x for x in y]\n",
    "        y_005 = [1.0 if x==0.6667 else x for x in y_005]\n",
    "        y_005 = [0+b if x==0.0 else x for x in y_005]\n",
    "        y_005 = [0.0 if x==0.3333 else x for x in y_005]\n",
    "        y_005 = pd.DataFrame(y_005)      \n",
    "\n",
    "        bce005_acc = []\n",
    "        bce005_pre = []\n",
    "        bce005_rec = []\n",
    "        bce005_f1 = []\n",
    "        bce005_rocauc = []\n",
    "        model_005 = mlp_model()\n",
    "#             early_stopping = EarlyStopping(monitor='val_loss', patience=5)\n",
    "        n_iter = 0\n",
    "        for train_index, test_index in skf.split(X, y_hard):  # straticiation by y_hard(binary label)\n",
    "            n_iter += 1\n",
    "            X_train = X.iloc[train_index]\n",
    "            y_005_train= y_005.iloc[train_index]\n",
    "            if n_iter == 1:\n",
    "                print(y_005_train.value_counts())\n",
    "            X_test = X.iloc[test_index]\n",
    "            y_test= y_hard.iloc[test_index]  # test with real(actual) label y\n",
    "#                 print('#'*10,'{0}th CV'.format(n_iter),'#'*10)\n",
    "            X_train = np.array(X_train)\n",
    "            y_005_train = np.array(y_005_train)\n",
    "            y_005_train = y_005_train.astype(float)\n",
    "            X_test = np.array(X_test)\n",
    "            y_test = np.array(y_test)\n",
    "            y_test = y_test.astype(float)\n",
    "\n",
    "            # MLP_BCE(y_005)\n",
    "            model_005.compile(loss='BinaryCrossentropy', optimizer=optimizers.Adam(learning_rate = 0.001), metrics=['accuracy'])\n",
    "            history = model_005.fit(X_train, y_005_train, validation_data=(X_test, y_test), epochs=epochs, verbose=0, batch_size=batch_size)#, callbacks=[early_stopping])\n",
    "#             plt.plot(history.history['loss'], label='loss')\n",
    "#             plt.ylim([0, 1])\n",
    "#             plt.xlabel('Iteration',fontweight=\"bold\",fontsize = 15)\n",
    "#             plt.ylabel('Loss',fontweight=\"bold\",fontsize = 15)\n",
    "#             plt.title(\"Cost Function\",fontweight=\"bold\",fontsize = 20)\n",
    "#             plt.legend()\n",
    "#             plt.show()\n",
    "            predicted = np.round(model_005.predict(X_test, verbose=0))\n",
    "            bce005_acc.append(metrics.accuracy_score(y_test, predicted))\n",
    "            bce005_pre.append(metrics.precision_score(y_test, predicted))\n",
    "            bce005_rec.append(metrics.recall_score(y_test, predicted))\n",
    "            bce005_f1.append(metrics.f1_score(y_test, predicted))\n",
    "            bce005_rocauc.append(metrics.roc_auc_score(y_test, predicted))\n",
    "        res['SLS({})'.format(b)] = [np.mean(bce005_acc), np.mean(bce005_pre), np.mean(bce005_rec), np.mean(bce005_f1), np.mean(bce005_rocauc)]\n",
    "        print([np.mean(bce005_acc), np.mean(bce005_pre), np.mean(bce005_rec), np.mean(bce005_f1), np.mean(bce005_rocauc)])\n",
    "    res.to_csv(\"UAV_Helpful_5CV(SLS_opt#1_new).csv\", mode = 'a', float_format='%.4g')"
   ]
  },
  {
   "cell_type": "code",
   "execution_count": null,
   "id": "e5e6b079",
   "metadata": {},
   "outputs": [],
   "source": []
  }
 ],
 "metadata": {
  "kernelspec": {
   "display_name": "Python 3 (ipykernel)",
   "language": "python",
   "name": "python3"
  },
  "language_info": {
   "codemirror_mode": {
    "name": "ipython",
    "version": 3
   },
   "file_extension": ".py",
   "mimetype": "text/x-python",
   "name": "python",
   "nbconvert_exporter": "python",
   "pygments_lexer": "ipython3",
   "version": "3.8.0"
  }
 },
 "nbformat": 4,
 "nbformat_minor": 5
}
